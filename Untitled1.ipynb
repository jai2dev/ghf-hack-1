{
 "cells": [
  {
   "cell_type": "code",
   "execution_count": 1,
   "metadata": {},
   "outputs": [],
   "source": [
    "import numpy as np # linear algebra\n",
    "import pandas as pd\n",
    "from bayes_opt import BayesianOptimization\n",
    "from hyperopt import fmin, tpe, hp, STATUS_OK, Trials, space_eval\n",
    "from sklearn.ensemble import RandomForestRegressor\n",
    "from xgboost import XGBRegressor,XGBClassifier\n",
    "from lightgbm import LGBMRegressor,LGBMClassifier\n",
    "import xgboost as xgb\n",
    "import seaborn as sns\n",
    "import matplotlib.pyplot as plt\n",
    "%matplotlib inline\n",
    "from sklearn.ensemble import RandomForestClassifier\n",
    "from sklearn.model_selection import train_test_split,GridSearchCV,StratifiedKFold\n",
    "from sklearn.preprocessing import OneHotEncoder,LabelEncoder\n",
    "from sklearn.metrics import roc_auc_score,mean_absolute_error,mean_squared_error\n",
    "from mlxtend.classifier import StackingCVClassifier\n",
    "\n",
    "from sklearn.metrics import matthews_corrcoef\n",
    "from sklearn.metrics import classification_report\n",
    "from sklearn.metrics import confusion_matrix\n",
    "from sklearn.metrics import accuracy_score\n",
    "from sklearn.linear_model import LogisticRegression\n",
    "from sklearn.tree import DecisionTreeClassifier\n",
    "from sklearn.neighbors import KNeighborsClassifier\n",
    "from sklearn.discriminant_analysis import LinearDiscriminantAnalysis\n",
    "from sklearn.naive_bayes import GaussianNB\n",
    "from sklearn.neural_network import MLPClassifier\n",
    "from sklearn.ensemble import GradientBoostingClassifier\n",
    "from catboost import CatBoostClassifier\n",
    "\n",
    "from sklearn.model_selection import cross_val_score,KFold,RepeatedStratifiedKFold,StratifiedKFold\n",
    "\n",
    "import imblearn\n",
    "from imblearn.over_sampling import SMOTE\n",
    "from imblearn.under_sampling import RandomUnderSampler\n",
    "from imblearn.pipeline import Pipeline\n",
    "from imblearn.combine import SMOTEENN\n",
    "\n",
    "import os"
   ]
  },
  {
   "cell_type": "code",
   "execution_count": 2,
   "metadata": {},
   "outputs": [],
   "source": [
    "train_data = pd.read_csv(r\"train.csv\")\n",
    "test_data = pd.read_csv(r\"test.csv\")"
   ]
  },
  {
   "cell_type": "code",
   "execution_count": 3,
   "metadata": {},
   "outputs": [],
   "source": [
    "train_data[\"profession\"]=pd.factorize(train_data.profession)[0]\n",
    "train_data[\"city\"]=pd.factorize(train_data.city)[0]\n",
    "train_data[\"state\"]=pd.factorize(train_data.state)[0]\n",
    "train_data[\"married\"]=pd.factorize(train_data.married)[0]\n",
    "train_data[\"house_ownership\"]=pd.factorize(train_data.house_ownership)[0]\n",
    "train_data[\"car_ownership\"]=pd.factorize(train_data.car_ownership)[0]"
   ]
  },
  {
   "cell_type": "code",
   "execution_count": 4,
   "metadata": {},
   "outputs": [],
   "source": [
    "test_data[\"profession\"]=pd.factorize(test_data.profession)[0]\n",
    "test_data[\"city\"]=pd.factorize(test_data.city)[0]\n",
    "test_data[\"state\"]=pd.factorize(test_data.state)[0]\n",
    "test_data[\"married\"]=pd.factorize(test_data.married)[0]\n",
    "test_data[\"house_ownership\"]=pd.factorize(test_data.house_ownership)[0]\n",
    "test_data[\"car_ownership\"]=pd.factorize(test_data.car_ownership)[0]\n"
   ]
  },
  {
   "cell_type": "code",
   "execution_count": 7,
   "metadata": {},
   "outputs": [],
   "source": [
    "xtrain=train_data.drop(\"risk_flag\",axis=1)\n",
    "ytrain=train_data[\"risk_flag\"]"
   ]
  },
  {
   "cell_type": "code",
   "execution_count": 8,
   "metadata": {},
   "outputs": [],
   "source": [
    "x_train,x_test,y_train,y_test = train_test_split(xtrain,ytrain,test_size=0.2,random_state=101)"
   ]
  },
  {
   "cell_type": "code",
   "execution_count": 25,
   "metadata": {},
   "outputs": [],
   "source": [
    "\n",
    "\n",
    "space = {\n",
    "        'n_estimators':hp.choice('n_estimators', np.arange(100, 1000, 10, dtype=int)),\n",
    "        'eta': hp.quniform('eta', 0.05, 0.5, 0.025),\n",
    "        # A problem with max_depth casted to float instead of int with\n",
    "        # the hp.quniform method.\n",
    "        'subsample': hp.quniform('subsample', 0.5, 1, 0.05),\n",
    "        'gamma': hp.quniform('gamma', 0.5, 1, 0.05),\n",
    "        'eval_metric': 'auc',\n",
    "        'scale_pos_weight': hp.choice('scale_pos_weight', np.arange(1, 1000, 1, dtype=int))\n",
    "    }"
   ]
  },
  {
   "cell_type": "code",
   "execution_count": 26,
   "metadata": {},
   "outputs": [
    {
     "name": "stdout",
     "output_type": "stream",
     "text": [
      "\r",
      "  0%|          | 0/100 [00:00<?, ?trial/s, best loss=?]"
     ]
    },
    {
     "name": "stderr",
     "output_type": "stream",
     "text": [
      "/home/jaidev/anaconda3/envs/my_env/lib/python3.9/site-packages/xgboost/sklearn.py:888: UserWarning: The use of label encoder in XGBClassifier is deprecated and will be removed in a future release. To remove this warning, do the following: 1) Pass option use_label_encoder=False when constructing XGBClassifier object; and 2) Encode your labels (y) as integers starting with 0, i.e. 0, 1, 2, ..., [num_class - 1].\n",
      "  warnings.warn(label_encoder_deprecation_msg, UserWarning)\n",
      "\n"
     ]
    },
    {
     "name": "stdout",
     "output_type": "stream",
     "text": [
      "0.7220211445185429                                     \n",
      "  1%|          | 1/100 [00:43<1:12:16, 43.80s/trial, best loss: 0.27797885548145707]"
     ]
    },
    {
     "name": "stderr",
     "output_type": "stream",
     "text": [
      "/home/jaidev/anaconda3/envs/my_env/lib/python3.9/site-packages/xgboost/sklearn.py:888: UserWarning: The use of label encoder in XGBClassifier is deprecated and will be removed in a future release. To remove this warning, do the following: 1) Pass option use_label_encoder=False when constructing XGBClassifier object; and 2) Encode your labels (y) as integers starting with 0, i.e. 0, 1, 2, ..., [num_class - 1].\n",
      "  warnings.warn(label_encoder_deprecation_msg, UserWarning)\n",
      "\n"
     ]
    },
    {
     "name": "stdout",
     "output_type": "stream",
     "text": [
      "0.8661149194347874                                                                  \n",
      "  2%|▏         | 2/100 [01:47<1:30:59, 55.70s/trial, best loss: 0.13388508056521264]"
     ]
    },
    {
     "name": "stderr",
     "output_type": "stream",
     "text": [
      "/home/jaidev/anaconda3/envs/my_env/lib/python3.9/site-packages/xgboost/sklearn.py:888: UserWarning: The use of label encoder in XGBClassifier is deprecated and will be removed in a future release. To remove this warning, do the following: 1) Pass option use_label_encoder=False when constructing XGBClassifier object; and 2) Encode your labels (y) as integers starting with 0, i.e. 0, 1, 2, ..., [num_class - 1].\n",
      "  warnings.warn(label_encoder_deprecation_msg, UserWarning)\n",
      "\n"
     ]
    },
    {
     "name": "stdout",
     "output_type": "stream",
     "text": [
      "0.8923883566065011                                                                  \n",
      "  3%|▎         | 3/100 [02:56<1:39:40, 61.66s/trial, best loss: 0.10761164339349893]"
     ]
    },
    {
     "name": "stderr",
     "output_type": "stream",
     "text": [
      "/home/jaidev/anaconda3/envs/my_env/lib/python3.9/site-packages/xgboost/sklearn.py:888: UserWarning: The use of label encoder in XGBClassifier is deprecated and will be removed in a future release. To remove this warning, do the following: 1) Pass option use_label_encoder=False when constructing XGBClassifier object; and 2) Encode your labels (y) as integers starting with 0, i.e. 0, 1, 2, ..., [num_class - 1].\n",
      "  warnings.warn(label_encoder_deprecation_msg, UserWarning)\n",
      "\n"
     ]
    },
    {
     "name": "stdout",
     "output_type": "stream",
     "text": [
      "0.8906212382396557                                                                  \n",
      "  4%|▍         | 4/100 [04:02<1:41:22, 63.36s/trial, best loss: 0.10761164339349893]"
     ]
    },
    {
     "name": "stderr",
     "output_type": "stream",
     "text": [
      "/home/jaidev/anaconda3/envs/my_env/lib/python3.9/site-packages/xgboost/sklearn.py:888: UserWarning: The use of label encoder in XGBClassifier is deprecated and will be removed in a future release. To remove this warning, do the following: 1) Pass option use_label_encoder=False when constructing XGBClassifier object; and 2) Encode your labels (y) as integers starting with 0, i.e. 0, 1, 2, ..., [num_class - 1].\n",
      "  warnings.warn(label_encoder_deprecation_msg, UserWarning)\n",
      "\n"
     ]
    },
    {
     "name": "stdout",
     "output_type": "stream",
     "text": [
      "0.785392615228524                                                                   \n",
      "  5%|▌         | 5/100 [04:48<1:30:29, 57.16s/trial, best loss: 0.10761164339349893]"
     ]
    },
    {
     "name": "stderr",
     "output_type": "stream",
     "text": [
      "/home/jaidev/anaconda3/envs/my_env/lib/python3.9/site-packages/xgboost/sklearn.py:888: UserWarning: The use of label encoder in XGBClassifier is deprecated and will be removed in a future release. To remove this warning, do the following: 1) Pass option use_label_encoder=False when constructing XGBClassifier object; and 2) Encode your labels (y) as integers starting with 0, i.e. 0, 1, 2, ..., [num_class - 1].\n",
      "  warnings.warn(label_encoder_deprecation_msg, UserWarning)\n",
      "\n"
     ]
    },
    {
     "name": "stdout",
     "output_type": "stream",
     "text": [
      "0.8794337327792562                                                                  \n",
      "  6%|▌         | 6/100 [06:35<1:55:50, 73.95s/trial, best loss: 0.10761164339349893]"
     ]
    },
    {
     "name": "stderr",
     "output_type": "stream",
     "text": [
      "/home/jaidev/anaconda3/envs/my_env/lib/python3.9/site-packages/xgboost/sklearn.py:888: UserWarning: The use of label encoder in XGBClassifier is deprecated and will be removed in a future release. To remove this warning, do the following: 1) Pass option use_label_encoder=False when constructing XGBClassifier object; and 2) Encode your labels (y) as integers starting with 0, i.e. 0, 1, 2, ..., [num_class - 1].\n",
      "  warnings.warn(label_encoder_deprecation_msg, UserWarning)\n",
      "\n"
     ]
    },
    {
     "name": "stdout",
     "output_type": "stream",
     "text": [
      "0.6710506844516948                                                                  \n",
      "  7%|▋         | 7/100 [06:59<1:29:19, 57.63s/trial, best loss: 0.10761164339349893]"
     ]
    },
    {
     "name": "stderr",
     "output_type": "stream",
     "text": [
      "/home/jaidev/anaconda3/envs/my_env/lib/python3.9/site-packages/xgboost/sklearn.py:888: UserWarning: The use of label encoder in XGBClassifier is deprecated and will be removed in a future release. To remove this warning, do the following: 1) Pass option use_label_encoder=False when constructing XGBClassifier object; and 2) Encode your labels (y) as integers starting with 0, i.e. 0, 1, 2, ..., [num_class - 1].\n",
      "  warnings.warn(label_encoder_deprecation_msg, UserWarning)\n",
      "\n"
     ]
    },
    {
     "name": "stdout",
     "output_type": "stream",
     "text": [
      "0.7855932871484193                                                                  \n",
      "  8%|▊         | 8/100 [08:00<1:30:16, 58.88s/trial, best loss: 0.10761164339349893]"
     ]
    },
    {
     "name": "stderr",
     "output_type": "stream",
     "text": [
      "/home/jaidev/anaconda3/envs/my_env/lib/python3.9/site-packages/xgboost/sklearn.py:888: UserWarning: The use of label encoder in XGBClassifier is deprecated and will be removed in a future release. To remove this warning, do the following: 1) Pass option use_label_encoder=False when constructing XGBClassifier object; and 2) Encode your labels (y) as integers starting with 0, i.e. 0, 1, 2, ..., [num_class - 1].\n",
      "  warnings.warn(label_encoder_deprecation_msg, UserWarning)\n",
      "\n"
     ]
    },
    {
     "name": "stdout",
     "output_type": "stream",
     "text": [
      "0.8574109742291778                                                                  \n",
      "  9%|▉         | 9/100 [10:54<2:23:47, 94.81s/trial, best loss: 0.10761164339349893]"
     ]
    },
    {
     "name": "stderr",
     "output_type": "stream",
     "text": [
      "/home/jaidev/anaconda3/envs/my_env/lib/python3.9/site-packages/xgboost/sklearn.py:888: UserWarning: The use of label encoder in XGBClassifier is deprecated and will be removed in a future release. To remove this warning, do the following: 1) Pass option use_label_encoder=False when constructing XGBClassifier object; and 2) Encode your labels (y) as integers starting with 0, i.e. 0, 1, 2, ..., [num_class - 1].\n",
      "  warnings.warn(label_encoder_deprecation_msg, UserWarning)\n",
      "\n"
     ]
    },
    {
     "name": "stdout",
     "output_type": "stream",
     "text": [
      "0.7640435559397813                                                                  \n",
      " 10%|█         | 10/100 [11:55<2:06:35, 84.39s/trial, best loss: 0.10761164339349893]"
     ]
    },
    {
     "name": "stderr",
     "output_type": "stream",
     "text": [
      "/home/jaidev/anaconda3/envs/my_env/lib/python3.9/site-packages/xgboost/sklearn.py:888: UserWarning: The use of label encoder in XGBClassifier is deprecated and will be removed in a future release. To remove this warning, do the following: 1) Pass option use_label_encoder=False when constructing XGBClassifier object; and 2) Encode your labels (y) as integers starting with 0, i.e. 0, 1, 2, ..., [num_class - 1].\n",
      "  warnings.warn(label_encoder_deprecation_msg, UserWarning)\n",
      "\n"
     ]
    },
    {
     "name": "stdout",
     "output_type": "stream",
     "text": [
      "0.8659895444925612                                                                   \n",
      " 11%|█         | 11/100 [13:19<2:04:44, 84.09s/trial, best loss: 0.10761164339349893]"
     ]
    },
    {
     "name": "stderr",
     "output_type": "stream",
     "text": [
      "/home/jaidev/anaconda3/envs/my_env/lib/python3.9/site-packages/xgboost/sklearn.py:888: UserWarning: The use of label encoder in XGBClassifier is deprecated and will be removed in a future release. To remove this warning, do the following: 1) Pass option use_label_encoder=False when constructing XGBClassifier object; and 2) Encode your labels (y) as integers starting with 0, i.e. 0, 1, 2, ..., [num_class - 1].\n",
      "  warnings.warn(label_encoder_deprecation_msg, UserWarning)\n",
      "\n"
     ]
    },
    {
     "name": "stdout",
     "output_type": "stream",
     "text": [
      "0.7718015438261238                                                                   \n",
      " 12%|█▏        | 12/100 [14:30<1:57:38, 80.21s/trial, best loss: 0.10761164339349893]"
     ]
    },
    {
     "name": "stderr",
     "output_type": "stream",
     "text": [
      "/home/jaidev/anaconda3/envs/my_env/lib/python3.9/site-packages/xgboost/sklearn.py:888: UserWarning: The use of label encoder in XGBClassifier is deprecated and will be removed in a future release. To remove this warning, do the following: 1) Pass option use_label_encoder=False when constructing XGBClassifier object; and 2) Encode your labels (y) as integers starting with 0, i.e. 0, 1, 2, ..., [num_class - 1].\n",
      "  warnings.warn(label_encoder_deprecation_msg, UserWarning)\n",
      "\n"
     ]
    },
    {
     "name": "stdout",
     "output_type": "stream",
     "text": [
      "0.8279689062060263                                                                   \n",
      " 13%|█▎        | 13/100 [16:06<2:03:25, 85.12s/trial, best loss: 0.10761164339349893]"
     ]
    },
    {
     "name": "stderr",
     "output_type": "stream",
     "text": [
      "/home/jaidev/anaconda3/envs/my_env/lib/python3.9/site-packages/xgboost/sklearn.py:888: UserWarning: The use of label encoder in XGBClassifier is deprecated and will be removed in a future release. To remove this warning, do the following: 1) Pass option use_label_encoder=False when constructing XGBClassifier object; and 2) Encode your labels (y) as integers starting with 0, i.e. 0, 1, 2, ..., [num_class - 1].\n",
      "  warnings.warn(label_encoder_deprecation_msg, UserWarning)\n",
      "\n"
     ]
    },
    {
     "name": "stdout",
     "output_type": "stream",
     "text": [
      "0.8591075131610164                                                                   \n",
      " 14%|█▍        | 14/100 [17:54<2:11:32, 91.78s/trial, best loss: 0.10761164339349893]"
     ]
    },
    {
     "name": "stderr",
     "output_type": "stream",
     "text": [
      "/home/jaidev/anaconda3/envs/my_env/lib/python3.9/site-packages/xgboost/sklearn.py:888: UserWarning: The use of label encoder in XGBClassifier is deprecated and will be removed in a future release. To remove this warning, do the following: 1) Pass option use_label_encoder=False when constructing XGBClassifier object; and 2) Encode your labels (y) as integers starting with 0, i.e. 0, 1, 2, ..., [num_class - 1].\n",
      "  warnings.warn(label_encoder_deprecation_msg, UserWarning)\n",
      "\n"
     ]
    },
    {
     "name": "stdout",
     "output_type": "stream",
     "text": [
      "0.8237054986696292                                                                   \n",
      " 15%|█▌        | 15/100 [18:30<1:46:27, 75.14s/trial, best loss: 0.10761164339349893]"
     ]
    },
    {
     "name": "stderr",
     "output_type": "stream",
     "text": [
      "/home/jaidev/anaconda3/envs/my_env/lib/python3.9/site-packages/xgboost/sklearn.py:888: UserWarning: The use of label encoder in XGBClassifier is deprecated and will be removed in a future release. To remove this warning, do the following: 1) Pass option use_label_encoder=False when constructing XGBClassifier object; and 2) Encode your labels (y) as integers starting with 0, i.e. 0, 1, 2, ..., [num_class - 1].\n",
      "  warnings.warn(label_encoder_deprecation_msg, UserWarning)\n",
      "\n"
     ]
    },
    {
     "name": "stdout",
     "output_type": "stream",
     "text": [
      "0.8208163583393087                                                                   \n",
      " 16%|█▌        | 16/100 [20:02<1:52:18, 80.22s/trial, best loss: 0.10761164339349893]"
     ]
    },
    {
     "name": "stderr",
     "output_type": "stream",
     "text": [
      "/home/jaidev/anaconda3/envs/my_env/lib/python3.9/site-packages/xgboost/sklearn.py:888: UserWarning: The use of label encoder in XGBClassifier is deprecated and will be removed in a future release. To remove this warning, do the following: 1) Pass option use_label_encoder=False when constructing XGBClassifier object; and 2) Encode your labels (y) as integers starting with 0, i.e. 0, 1, 2, ..., [num_class - 1].\n",
      "  warnings.warn(label_encoder_deprecation_msg, UserWarning)\n",
      "\n"
     ]
    },
    {
     "name": "stdout",
     "output_type": "stream",
     "text": [
      "0.894457447304084                                                                    \n",
      " 17%|█▋        | 17/100 [21:42<1:59:19, 86.26s/trial, best loss: 0.10554255269591595]"
     ]
    },
    {
     "name": "stderr",
     "output_type": "stream",
     "text": [
      "/home/jaidev/anaconda3/envs/my_env/lib/python3.9/site-packages/xgboost/sklearn.py:888: UserWarning: The use of label encoder in XGBClassifier is deprecated and will be removed in a future release. To remove this warning, do the following: 1) Pass option use_label_encoder=False when constructing XGBClassifier object; and 2) Encode your labels (y) as integers starting with 0, i.e. 0, 1, 2, ..., [num_class - 1].\n",
      "  warnings.warn(label_encoder_deprecation_msg, UserWarning)\n",
      "\n"
     ]
    },
    {
     "name": "stdout",
     "output_type": "stream",
     "text": [
      "0.8837064192517861                                                                   \n",
      " 18%|█▊        | 18/100 [23:17<2:01:25, 88.84s/trial, best loss: 0.10554255269591595]"
     ]
    },
    {
     "name": "stderr",
     "output_type": "stream",
     "text": [
      "/home/jaidev/anaconda3/envs/my_env/lib/python3.9/site-packages/xgboost/sklearn.py:888: UserWarning: The use of label encoder in XGBClassifier is deprecated and will be removed in a future release. To remove this warning, do the following: 1) Pass option use_label_encoder=False when constructing XGBClassifier object; and 2) Encode your labels (y) as integers starting with 0, i.e. 0, 1, 2, ..., [num_class - 1].\n",
      "  warnings.warn(label_encoder_deprecation_msg, UserWarning)\n",
      "\n"
     ]
    },
    {
     "name": "stdout",
     "output_type": "stream",
     "text": [
      "0.8738020100765903                                                                   \n",
      " 19%|█▉        | 19/100 [26:53<2:51:11, 126.80s/trial, best loss: 0.10554255269591595]"
     ]
    },
    {
     "name": "stderr",
     "output_type": "stream",
     "text": [
      "/home/jaidev/anaconda3/envs/my_env/lib/python3.9/site-packages/xgboost/sklearn.py:888: UserWarning: The use of label encoder in XGBClassifier is deprecated and will be removed in a future release. To remove this warning, do the following: 1) Pass option use_label_encoder=False when constructing XGBClassifier object; and 2) Encode your labels (y) as integers starting with 0, i.e. 0, 1, 2, ..., [num_class - 1].\n",
      "  warnings.warn(label_encoder_deprecation_msg, UserWarning)\n",
      "\n"
     ]
    },
    {
     "name": "stdout",
     "output_type": "stream",
     "text": [
      "0.8307642963982234                                                                    \n",
      " 20%|██        | 20/100 [27:38<2:16:39, 102.49s/trial, best loss: 0.10554255269591595]"
     ]
    },
    {
     "name": "stderr",
     "output_type": "stream",
     "text": [
      "/home/jaidev/anaconda3/envs/my_env/lib/python3.9/site-packages/xgboost/sklearn.py:888: UserWarning: The use of label encoder in XGBClassifier is deprecated and will be removed in a future release. To remove this warning, do the following: 1) Pass option use_label_encoder=False when constructing XGBClassifier object; and 2) Encode your labels (y) as integers starting with 0, i.e. 0, 1, 2, ..., [num_class - 1].\n",
      "  warnings.warn(label_encoder_deprecation_msg, UserWarning)\n",
      "\n"
     ]
    },
    {
     "name": "stdout",
     "output_type": "stream",
     "text": [
      "0.8827616247847405                                                                    \n",
      " 21%|██        | 21/100 [28:53<2:03:56, 94.14s/trial, best loss: 0.10554255269591595] "
     ]
    },
    {
     "name": "stderr",
     "output_type": "stream",
     "text": [
      "/home/jaidev/anaconda3/envs/my_env/lib/python3.9/site-packages/xgboost/sklearn.py:888: UserWarning: The use of label encoder in XGBClassifier is deprecated and will be removed in a future release. To remove this warning, do the following: 1) Pass option use_label_encoder=False when constructing XGBClassifier object; and 2) Encode your labels (y) as integers starting with 0, i.e. 0, 1, 2, ..., [num_class - 1].\n",
      "  warnings.warn(label_encoder_deprecation_msg, UserWarning)\n",
      "\n"
     ]
    },
    {
     "name": "stdout",
     "output_type": "stream",
     "text": [
      "0.8618991667948896                                                                   \n",
      " 22%|██▏       | 22/100 [29:51<1:48:25, 83.40s/trial, best loss: 0.10554255269591595]"
     ]
    },
    {
     "name": "stderr",
     "output_type": "stream",
     "text": [
      "/home/jaidev/anaconda3/envs/my_env/lib/python3.9/site-packages/xgboost/sklearn.py:888: UserWarning: The use of label encoder in XGBClassifier is deprecated and will be removed in a future release. To remove this warning, do the following: 1) Pass option use_label_encoder=False when constructing XGBClassifier object; and 2) Encode your labels (y) as integers starting with 0, i.e. 0, 1, 2, ..., [num_class - 1].\n",
      "  warnings.warn(label_encoder_deprecation_msg, UserWarning)\n",
      "\n"
     ]
    },
    {
     "name": "stdout",
     "output_type": "stream",
     "text": [
      "0.8837800849296559                                                                   \n",
      " 23%|██▎       | 23/100 [31:04<1:42:42, 80.03s/trial, best loss: 0.10554255269591595]"
     ]
    },
    {
     "name": "stderr",
     "output_type": "stream",
     "text": [
      "/home/jaidev/anaconda3/envs/my_env/lib/python3.9/site-packages/xgboost/sklearn.py:888: UserWarning: The use of label encoder in XGBClassifier is deprecated and will be removed in a future release. To remove this warning, do the following: 1) Pass option use_label_encoder=False when constructing XGBClassifier object; and 2) Encode your labels (y) as integers starting with 0, i.e. 0, 1, 2, ..., [num_class - 1].\n",
      "  warnings.warn(label_encoder_deprecation_msg, UserWarning)\n",
      "\n"
     ]
    },
    {
     "name": "stdout",
     "output_type": "stream",
     "text": [
      "0.7325610331439005                                                                   \n",
      " 24%|██▍       | 24/100 [33:08<1:58:06, 93.24s/trial, best loss: 0.10554255269591595]"
     ]
    },
    {
     "name": "stderr",
     "output_type": "stream",
     "text": [
      "/home/jaidev/anaconda3/envs/my_env/lib/python3.9/site-packages/xgboost/sklearn.py:888: UserWarning: The use of label encoder in XGBClassifier is deprecated and will be removed in a future release. To remove this warning, do the following: 1) Pass option use_label_encoder=False when constructing XGBClassifier object; and 2) Encode your labels (y) as integers starting with 0, i.e. 0, 1, 2, ..., [num_class - 1].\n",
      "  warnings.warn(label_encoder_deprecation_msg, UserWarning)\n",
      "\n"
     ]
    },
    {
     "name": "stdout",
     "output_type": "stream",
     "text": [
      "0.8931007698452792                                                                   \n",
      " 25%|██▌       | 25/100 [34:32<1:53:03, 90.44s/trial, best loss: 0.10554255269591595]"
     ]
    },
    {
     "name": "stderr",
     "output_type": "stream",
     "text": [
      "/home/jaidev/anaconda3/envs/my_env/lib/python3.9/site-packages/xgboost/sklearn.py:888: UserWarning: The use of label encoder in XGBClassifier is deprecated and will be removed in a future release. To remove this warning, do the following: 1) Pass option use_label_encoder=False when constructing XGBClassifier object; and 2) Encode your labels (y) as integers starting with 0, i.e. 0, 1, 2, ..., [num_class - 1].\n",
      "  warnings.warn(label_encoder_deprecation_msg, UserWarning)\n",
      "\n"
     ]
    },
    {
     "name": "stdout",
     "output_type": "stream",
     "text": [
      "0.8920124191588533                                                                   \n",
      " 26%|██▌       | 26/100 [35:59<1:50:25, 89.54s/trial, best loss: 0.10554255269591595]"
     ]
    },
    {
     "name": "stderr",
     "output_type": "stream",
     "text": [
      "/home/jaidev/anaconda3/envs/my_env/lib/python3.9/site-packages/xgboost/sklearn.py:888: UserWarning: The use of label encoder in XGBClassifier is deprecated and will be removed in a future release. To remove this warning, do the following: 1) Pass option use_label_encoder=False when constructing XGBClassifier object; and 2) Encode your labels (y) as integers starting with 0, i.e. 0, 1, 2, ..., [num_class - 1].\n",
      "  warnings.warn(label_encoder_deprecation_msg, UserWarning)\n",
      "\n"
     ]
    },
    {
     "name": "stdout",
     "output_type": "stream",
     "text": [
      "0.7001229489348897                                                                   \n",
      " 27%|██▋       | 27/100 [37:43<1:54:17, 93.94s/trial, best loss: 0.10554255269591595]"
     ]
    },
    {
     "name": "stderr",
     "output_type": "stream",
     "text": [
      "/home/jaidev/anaconda3/envs/my_env/lib/python3.9/site-packages/xgboost/sklearn.py:888: UserWarning: The use of label encoder in XGBClassifier is deprecated and will be removed in a future release. To remove this warning, do the following: 1) Pass option use_label_encoder=False when constructing XGBClassifier object; and 2) Encode your labels (y) as integers starting with 0, i.e. 0, 1, 2, ..., [num_class - 1].\n",
      "  warnings.warn(label_encoder_deprecation_msg, UserWarning)\n",
      "\n"
     ]
    },
    {
     "name": "stdout",
     "output_type": "stream",
     "text": [
      "0.8582627460296322                                                                   \n",
      " 28%|██▊       | 28/100 [40:30<2:19:00, 115.84s/trial, best loss: 0.10554255269591595]"
     ]
    },
    {
     "name": "stderr",
     "output_type": "stream",
     "text": [
      "/home/jaidev/anaconda3/envs/my_env/lib/python3.9/site-packages/xgboost/sklearn.py:888: UserWarning: The use of label encoder in XGBClassifier is deprecated and will be removed in a future release. To remove this warning, do the following: 1) Pass option use_label_encoder=False when constructing XGBClassifier object; and 2) Encode your labels (y) as integers starting with 0, i.e. 0, 1, 2, ..., [num_class - 1].\n",
      "  warnings.warn(label_encoder_deprecation_msg, UserWarning)\n",
      "\n"
     ]
    },
    {
     "name": "stdout",
     "output_type": "stream",
     "text": [
      "0.8576274484473533                                                                    \n",
      " 29%|██▉       | 29/100 [41:55<2:06:01, 106.50s/trial, best loss: 0.10554255269591595]"
     ]
    },
    {
     "name": "stderr",
     "output_type": "stream",
     "text": [
      "/home/jaidev/anaconda3/envs/my_env/lib/python3.9/site-packages/xgboost/sklearn.py:888: UserWarning: The use of label encoder in XGBClassifier is deprecated and will be removed in a future release. To remove this warning, do the following: 1) Pass option use_label_encoder=False when constructing XGBClassifier object; and 2) Encode your labels (y) as integers starting with 0, i.e. 0, 1, 2, ..., [num_class - 1].\n",
      "  warnings.warn(label_encoder_deprecation_msg, UserWarning)\n",
      "\n"
     ]
    },
    {
     "name": "stdout",
     "output_type": "stream",
     "text": [
      "0.8118074445755147                                                                    \n",
      " 30%|███       | 30/100 [43:48<2:06:43, 108.62s/trial, best loss: 0.10554255269591595]"
     ]
    },
    {
     "name": "stderr",
     "output_type": "stream",
     "text": [
      "/home/jaidev/anaconda3/envs/my_env/lib/python3.9/site-packages/xgboost/sklearn.py:888: UserWarning: The use of label encoder in XGBClassifier is deprecated and will be removed in a future release. To remove this warning, do the following: 1) Pass option use_label_encoder=False when constructing XGBClassifier object; and 2) Encode your labels (y) as integers starting with 0, i.e. 0, 1, 2, ..., [num_class - 1].\n",
      "  warnings.warn(label_encoder_deprecation_msg, UserWarning)\n",
      "\n"
     ]
    },
    {
     "name": "stdout",
     "output_type": "stream",
     "text": [
      "0.899702972638631                                                                     \n",
      " 31%|███       | 31/100 [45:10<1:55:36, 100.53s/trial, best loss: 0.10029702736136903]"
     ]
    },
    {
     "name": "stderr",
     "output_type": "stream",
     "text": [
      "/home/jaidev/anaconda3/envs/my_env/lib/python3.9/site-packages/xgboost/sklearn.py:888: UserWarning: The use of label encoder in XGBClassifier is deprecated and will be removed in a future release. To remove this warning, do the following: 1) Pass option use_label_encoder=False when constructing XGBClassifier object; and 2) Encode your labels (y) as integers starting with 0, i.e. 0, 1, 2, ..., [num_class - 1].\n",
      "  warnings.warn(label_encoder_deprecation_msg, UserWarning)\n",
      "\n"
     ]
    },
    {
     "name": "stdout",
     "output_type": "stream",
     "text": [
      "0.9057671183815417                                                                    \n",
      " 32%|███▏      | 32/100 [46:39<1:50:05, 97.15s/trial, best loss: 0.09423288161845833] "
     ]
    },
    {
     "name": "stderr",
     "output_type": "stream",
     "text": [
      "/home/jaidev/anaconda3/envs/my_env/lib/python3.9/site-packages/xgboost/sklearn.py:888: UserWarning: The use of label encoder in XGBClassifier is deprecated and will be removed in a future release. To remove this warning, do the following: 1) Pass option use_label_encoder=False when constructing XGBClassifier object; and 2) Encode your labels (y) as integers starting with 0, i.e. 0, 1, 2, ..., [num_class - 1].\n",
      "  warnings.warn(label_encoder_deprecation_msg, UserWarning)\n",
      "\n"
     ]
    },
    {
     "name": "stdout",
     "output_type": "stream",
     "text": [
      "0.8609712731816198                                                                   \n",
      " 33%|███▎      | 33/100 [47:53<1:40:34, 90.07s/trial, best loss: 0.09423288161845833]"
     ]
    },
    {
     "name": "stderr",
     "output_type": "stream",
     "text": [
      "/home/jaidev/anaconda3/envs/my_env/lib/python3.9/site-packages/xgboost/sklearn.py:888: UserWarning: The use of label encoder in XGBClassifier is deprecated and will be removed in a future release. To remove this warning, do the following: 1) Pass option use_label_encoder=False when constructing XGBClassifier object; and 2) Encode your labels (y) as integers starting with 0, i.e. 0, 1, 2, ..., [num_class - 1].\n",
      "  warnings.warn(label_encoder_deprecation_msg, UserWarning)\n",
      "\n"
     ]
    },
    {
     "name": "stdout",
     "output_type": "stream",
     "text": [
      "0.8659170288075677                                                                   \n",
      " 34%|███▍      | 34/100 [48:36<1:23:45, 76.14s/trial, best loss: 0.09423288161845833]"
     ]
    },
    {
     "name": "stderr",
     "output_type": "stream",
     "text": [
      "/home/jaidev/anaconda3/envs/my_env/lib/python3.9/site-packages/xgboost/sklearn.py:888: UserWarning: The use of label encoder in XGBClassifier is deprecated and will be removed in a future release. To remove this warning, do the following: 1) Pass option use_label_encoder=False when constructing XGBClassifier object; and 2) Encode your labels (y) as integers starting with 0, i.e. 0, 1, 2, ..., [num_class - 1].\n",
      "  warnings.warn(label_encoder_deprecation_msg, UserWarning)\n",
      "\n"
     ]
    },
    {
     "name": "stdout",
     "output_type": "stream",
     "text": [
      "0.8723873718745816                                                                   \n",
      " 35%|███▌      | 35/100 [49:33<1:15:59, 70.15s/trial, best loss: 0.09423288161845833]"
     ]
    },
    {
     "name": "stderr",
     "output_type": "stream",
     "text": [
      "/home/jaidev/anaconda3/envs/my_env/lib/python3.9/site-packages/xgboost/sklearn.py:888: UserWarning: The use of label encoder in XGBClassifier is deprecated and will be removed in a future release. To remove this warning, do the following: 1) Pass option use_label_encoder=False when constructing XGBClassifier object; and 2) Encode your labels (y) as integers starting with 0, i.e. 0, 1, 2, ..., [num_class - 1].\n",
      "  warnings.warn(label_encoder_deprecation_msg, UserWarning)\n",
      "\n"
     ]
    },
    {
     "name": "stdout",
     "output_type": "stream",
     "text": [
      "0.8467322597864476                                                                   \n",
      " 36%|███▌      | 36/100 [50:23<1:08:31, 64.24s/trial, best loss: 0.09423288161845833]"
     ]
    },
    {
     "name": "stderr",
     "output_type": "stream",
     "text": [
      "/home/jaidev/anaconda3/envs/my_env/lib/python3.9/site-packages/xgboost/sklearn.py:888: UserWarning: The use of label encoder in XGBClassifier is deprecated and will be removed in a future release. To remove this warning, do the following: 1) Pass option use_label_encoder=False when constructing XGBClassifier object; and 2) Encode your labels (y) as integers starting with 0, i.e. 0, 1, 2, ..., [num_class - 1].\n",
      "  warnings.warn(label_encoder_deprecation_msg, UserWarning)\n",
      "\n"
     ]
    },
    {
     "name": "stdout",
     "output_type": "stream",
     "text": [
      "0.8338664609680898                                                                   \n",
      " 37%|███▋      | 37/100 [51:34<1:09:35, 66.28s/trial, best loss: 0.09423288161845833]"
     ]
    },
    {
     "name": "stderr",
     "output_type": "stream",
     "text": [
      "/home/jaidev/anaconda3/envs/my_env/lib/python3.9/site-packages/xgboost/sklearn.py:888: UserWarning: The use of label encoder in XGBClassifier is deprecated and will be removed in a future release. To remove this warning, do the following: 1) Pass option use_label_encoder=False when constructing XGBClassifier object; and 2) Encode your labels (y) as integers starting with 0, i.e. 0, 1, 2, ..., [num_class - 1].\n",
      "  warnings.warn(label_encoder_deprecation_msg, UserWarning)\n",
      "\n"
     ]
    },
    {
     "name": "stdout",
     "output_type": "stream",
     "text": [
      "0.8310502974221433                                                                   \n",
      " 38%|███▊      | 38/100 [52:13<1:00:07, 58.19s/trial, best loss: 0.09423288161845833]"
     ]
    },
    {
     "name": "stderr",
     "output_type": "stream",
     "text": [
      "/home/jaidev/anaconda3/envs/my_env/lib/python3.9/site-packages/xgboost/sklearn.py:888: UserWarning: The use of label encoder in XGBClassifier is deprecated and will be removed in a future release. To remove this warning, do the following: 1) Pass option use_label_encoder=False when constructing XGBClassifier object; and 2) Encode your labels (y) as integers starting with 0, i.e. 0, 1, 2, ..., [num_class - 1].\n",
      "  warnings.warn(label_encoder_deprecation_msg, UserWarning)\n",
      "\n"
     ]
    },
    {
     "name": "stdout",
     "output_type": "stream",
     "text": [
      "0.8932035196880379                                                                   \n",
      " 39%|███▉      | 39/100 [53:33<1:05:48, 64.73s/trial, best loss: 0.09423288161845833]"
     ]
    },
    {
     "name": "stderr",
     "output_type": "stream",
     "text": [
      "/home/jaidev/anaconda3/envs/my_env/lib/python3.9/site-packages/xgboost/sklearn.py:888: UserWarning: The use of label encoder in XGBClassifier is deprecated and will be removed in a future release. To remove this warning, do the following: 1) Pass option use_label_encoder=False when constructing XGBClassifier object; and 2) Encode your labels (y) as integers starting with 0, i.e. 0, 1, 2, ..., [num_class - 1].\n",
      "  warnings.warn(label_encoder_deprecation_msg, UserWarning)\n",
      "\n"
     ]
    },
    {
     "name": "stdout",
     "output_type": "stream",
     "text": [
      "0.828896520587799                                                                    \n",
      " 40%|████      | 40/100 [54:25<1:00:44, 60.74s/trial, best loss: 0.09423288161845833]"
     ]
    },
    {
     "name": "stderr",
     "output_type": "stream",
     "text": [
      "/home/jaidev/anaconda3/envs/my_env/lib/python3.9/site-packages/xgboost/sklearn.py:888: UserWarning: The use of label encoder in XGBClassifier is deprecated and will be removed in a future release. To remove this warning, do the following: 1) Pass option use_label_encoder=False when constructing XGBClassifier object; and 2) Encode your labels (y) as integers starting with 0, i.e. 0, 1, 2, ..., [num_class - 1].\n",
      "  warnings.warn(label_encoder_deprecation_msg, UserWarning)\n",
      "\n"
     ]
    },
    {
     "name": "stdout",
     "output_type": "stream",
     "text": [
      "0.7715480383676864                                                                   \n",
      " 41%|████      | 41/100 [54:51<49:29, 50.33s/trial, best loss: 0.09423288161845833]  "
     ]
    },
    {
     "name": "stderr",
     "output_type": "stream",
     "text": [
      "/home/jaidev/anaconda3/envs/my_env/lib/python3.9/site-packages/xgboost/sklearn.py:888: UserWarning: The use of label encoder in XGBClassifier is deprecated and will be removed in a future release. To remove this warning, do the following: 1) Pass option use_label_encoder=False when constructing XGBClassifier object; and 2) Encode your labels (y) as integers starting with 0, i.e. 0, 1, 2, ..., [num_class - 1].\n",
      "  warnings.warn(label_encoder_deprecation_msg, UserWarning)\n",
      "\n"
     ]
    },
    {
     "name": "stdout",
     "output_type": "stream",
     "text": [
      "0.8659413697111034                                                                 \n",
      " 42%|████▏     | 42/100 [56:03<54:52, 56.77s/trial, best loss: 0.09423288161845833]"
     ]
    },
    {
     "name": "stderr",
     "output_type": "stream",
     "text": [
      "/home/jaidev/anaconda3/envs/my_env/lib/python3.9/site-packages/xgboost/sklearn.py:888: UserWarning: The use of label encoder in XGBClassifier is deprecated and will be removed in a future release. To remove this warning, do the following: 1) Pass option use_label_encoder=False when constructing XGBClassifier object; and 2) Encode your labels (y) as integers starting with 0, i.e. 0, 1, 2, ..., [num_class - 1].\n",
      "  warnings.warn(label_encoder_deprecation_msg, UserWarning)\n",
      "\n"
     ]
    },
    {
     "name": "stdout",
     "output_type": "stream",
     "text": [
      "0.8630422744104992                                                                 \n",
      " 43%|████▎     | 43/100 [57:06<55:53, 58.83s/trial, best loss: 0.09423288161845833]"
     ]
    },
    {
     "name": "stderr",
     "output_type": "stream",
     "text": [
      "/home/jaidev/anaconda3/envs/my_env/lib/python3.9/site-packages/xgboost/sklearn.py:888: UserWarning: The use of label encoder in XGBClassifier is deprecated and will be removed in a future release. To remove this warning, do the following: 1) Pass option use_label_encoder=False when constructing XGBClassifier object; and 2) Encode your labels (y) as integers starting with 0, i.e. 0, 1, 2, ..., [num_class - 1].\n",
      "  warnings.warn(label_encoder_deprecation_msg, UserWarning)\n",
      "\n"
     ]
    },
    {
     "name": "stdout",
     "output_type": "stream",
     "text": [
      "0.8467454828674778                                                                 \n",
      " 44%|████▍     | 44/100 [58:03<54:11, 58.07s/trial, best loss: 0.09423288161845833]"
     ]
    },
    {
     "name": "stderr",
     "output_type": "stream",
     "text": [
      "/home/jaidev/anaconda3/envs/my_env/lib/python3.9/site-packages/xgboost/sklearn.py:888: UserWarning: The use of label encoder in XGBClassifier is deprecated and will be removed in a future release. To remove this warning, do the following: 1) Pass option use_label_encoder=False when constructing XGBClassifier object; and 2) Encode your labels (y) as integers starting with 0, i.e. 0, 1, 2, ..., [num_class - 1].\n",
      "  warnings.warn(label_encoder_deprecation_msg, UserWarning)\n",
      "\n"
     ]
    },
    {
     "name": "stdout",
     "output_type": "stream",
     "text": [
      "0.8194564642071386                                                                 \n",
      " 45%|████▌     | 45/100 [59:25<59:49, 65.26s/trial, best loss: 0.09423288161845833]"
     ]
    },
    {
     "name": "stderr",
     "output_type": "stream",
     "text": [
      "/home/jaidev/anaconda3/envs/my_env/lib/python3.9/site-packages/xgboost/sklearn.py:888: UserWarning: The use of label encoder in XGBClassifier is deprecated and will be removed in a future release. To remove this warning, do the following: 1) Pass option use_label_encoder=False when constructing XGBClassifier object; and 2) Encode your labels (y) as integers starting with 0, i.e. 0, 1, 2, ..., [num_class - 1].\n",
      "  warnings.warn(label_encoder_deprecation_msg, UserWarning)\n",
      "\n"
     ]
    },
    {
     "name": "stdout",
     "output_type": "stream",
     "text": [
      "0.8345881531430008                                                                 \n",
      " 46%|████▌     | 46/100 [1:00:09<53:05, 59.00s/trial, best loss: 0.09423288161845833]"
     ]
    },
    {
     "name": "stderr",
     "output_type": "stream",
     "text": [
      "/home/jaidev/anaconda3/envs/my_env/lib/python3.9/site-packages/xgboost/sklearn.py:888: UserWarning: The use of label encoder in XGBClassifier is deprecated and will be removed in a future release. To remove this warning, do the following: 1) Pass option use_label_encoder=False when constructing XGBClassifier object; and 2) Encode your labels (y) as integers starting with 0, i.e. 0, 1, 2, ..., [num_class - 1].\n",
      "  warnings.warn(label_encoder_deprecation_msg, UserWarning)\n",
      "\n"
     ]
    },
    {
     "name": "stdout",
     "output_type": "stream",
     "text": [
      "0.8228295549741769                                                                   \n",
      " 47%|████▋     | 47/100 [1:00:58<49:24, 55.94s/trial, best loss: 0.09423288161845833]"
     ]
    },
    {
     "name": "stderr",
     "output_type": "stream",
     "text": [
      "/home/jaidev/anaconda3/envs/my_env/lib/python3.9/site-packages/xgboost/sklearn.py:888: UserWarning: The use of label encoder in XGBClassifier is deprecated and will be removed in a future release. To remove this warning, do the following: 1) Pass option use_label_encoder=False when constructing XGBClassifier object; and 2) Encode your labels (y) as integers starting with 0, i.e. 0, 1, 2, ..., [num_class - 1].\n",
      "  warnings.warn(label_encoder_deprecation_msg, UserWarning)\n",
      "\n"
     ]
    },
    {
     "name": "stdout",
     "output_type": "stream",
     "text": [
      "0.853798497564802                                                                    \n",
      " 48%|████▊     | 48/100 [1:01:50<47:22, 54.66s/trial, best loss: 0.09423288161845833]"
     ]
    },
    {
     "name": "stderr",
     "output_type": "stream",
     "text": [
      "/home/jaidev/anaconda3/envs/my_env/lib/python3.9/site-packages/xgboost/sklearn.py:888: UserWarning: The use of label encoder in XGBClassifier is deprecated and will be removed in a future release. To remove this warning, do the following: 1) Pass option use_label_encoder=False when constructing XGBClassifier object; and 2) Encode your labels (y) as integers starting with 0, i.e. 0, 1, 2, ..., [num_class - 1].\n",
      "  warnings.warn(label_encoder_deprecation_msg, UserWarning)\n",
      "\n"
     ]
    },
    {
     "name": "stdout",
     "output_type": "stream",
     "text": [
      "0.8471363261333357                                                                   \n",
      " 49%|████▉     | 49/100 [1:02:36<44:15, 52.06s/trial, best loss: 0.09423288161845833]"
     ]
    },
    {
     "name": "stderr",
     "output_type": "stream",
     "text": [
      "/home/jaidev/anaconda3/envs/my_env/lib/python3.9/site-packages/xgboost/sklearn.py:888: UserWarning: The use of label encoder in XGBClassifier is deprecated and will be removed in a future release. To remove this warning, do the following: 1) Pass option use_label_encoder=False when constructing XGBClassifier object; and 2) Encode your labels (y) as integers starting with 0, i.e. 0, 1, 2, ..., [num_class - 1].\n",
      "  warnings.warn(label_encoder_deprecation_msg, UserWarning)\n",
      "\n"
     ]
    },
    {
     "name": "stdout",
     "output_type": "stream",
     "text": [
      "0.8945603404366899                                                                   \n",
      " 50%|█████     | 50/100 [1:04:32<59:34, 71.48s/trial, best loss: 0.09423288161845833]"
     ]
    },
    {
     "name": "stderr",
     "output_type": "stream",
     "text": [
      "/home/jaidev/anaconda3/envs/my_env/lib/python3.9/site-packages/xgboost/sklearn.py:888: UserWarning: The use of label encoder in XGBClassifier is deprecated and will be removed in a future release. To remove this warning, do the following: 1) Pass option use_label_encoder=False when constructing XGBClassifier object; and 2) Encode your labels (y) as integers starting with 0, i.e. 0, 1, 2, ..., [num_class - 1].\n",
      "  warnings.warn(label_encoder_deprecation_msg, UserWarning)\n",
      "\n"
     ]
    },
    {
     "name": "stdout",
     "output_type": "stream",
     "text": [
      "0.8261957972213373                                                                   \n",
      " 51%|█████     | 51/100 [1:05:02<48:08, 58.94s/trial, best loss: 0.09423288161845833]"
     ]
    },
    {
     "name": "stderr",
     "output_type": "stream",
     "text": [
      "/home/jaidev/anaconda3/envs/my_env/lib/python3.9/site-packages/xgboost/sklearn.py:888: UserWarning: The use of label encoder in XGBClassifier is deprecated and will be removed in a future release. To remove this warning, do the following: 1) Pass option use_label_encoder=False when constructing XGBClassifier object; and 2) Encode your labels (y) as integers starting with 0, i.e. 0, 1, 2, ..., [num_class - 1].\n",
      "  warnings.warn(label_encoder_deprecation_msg, UserWarning)\n",
      "\n"
     ]
    },
    {
     "name": "stdout",
     "output_type": "stream",
     "text": [
      "0.8723089757947038                                                                   \n",
      " 52%|█████▏    | 52/100 [1:07:25<1:07:15, 84.08s/trial, best loss: 0.09423288161845833]"
     ]
    },
    {
     "name": "stderr",
     "output_type": "stream",
     "text": [
      "/home/jaidev/anaconda3/envs/my_env/lib/python3.9/site-packages/xgboost/sklearn.py:888: UserWarning: The use of label encoder in XGBClassifier is deprecated and will be removed in a future release. To remove this warning, do the following: 1) Pass option use_label_encoder=False when constructing XGBClassifier object; and 2) Encode your labels (y) as integers starting with 0, i.e. 0, 1, 2, ..., [num_class - 1].\n",
      "  warnings.warn(label_encoder_deprecation_msg, UserWarning)\n",
      "\n"
     ]
    },
    {
     "name": "stdout",
     "output_type": "stream",
     "text": [
      "0.8178922075229823                                                                     \n",
      " 53%|█████▎    | 53/100 [1:08:08<56:11, 71.74s/trial, best loss: 0.09423288161845833]  "
     ]
    },
    {
     "name": "stderr",
     "output_type": "stream",
     "text": [
      "/home/jaidev/anaconda3/envs/my_env/lib/python3.9/site-packages/xgboost/sklearn.py:888: UserWarning: The use of label encoder in XGBClassifier is deprecated and will be removed in a future release. To remove this warning, do the following: 1) Pass option use_label_encoder=False when constructing XGBClassifier object; and 2) Encode your labels (y) as integers starting with 0, i.e. 0, 1, 2, ..., [num_class - 1].\n",
      "  warnings.warn(label_encoder_deprecation_msg, UserWarning)\n",
      "\n"
     ]
    },
    {
     "name": "stdout",
     "output_type": "stream",
     "text": [
      "0.8423110074610325                                                                   \n",
      " 54%|█████▍    | 54/100 [1:08:57<49:44, 64.88s/trial, best loss: 0.09423288161845833]"
     ]
    },
    {
     "name": "stderr",
     "output_type": "stream",
     "text": [
      "/home/jaidev/anaconda3/envs/my_env/lib/python3.9/site-packages/xgboost/sklearn.py:888: UserWarning: The use of label encoder in XGBClassifier is deprecated and will be removed in a future release. To remove this warning, do the following: 1) Pass option use_label_encoder=False when constructing XGBClassifier object; and 2) Encode your labels (y) as integers starting with 0, i.e. 0, 1, 2, ..., [num_class - 1].\n",
      "  warnings.warn(label_encoder_deprecation_msg, UserWarning)\n",
      "\n"
     ]
    },
    {
     "name": "stdout",
     "output_type": "stream",
     "text": [
      "0.8676306376017198                                                                   \n",
      " 55%|█████▌    | 55/100 [1:09:53<46:51, 62.48s/trial, best loss: 0.09423288161845833]"
     ]
    },
    {
     "name": "stderr",
     "output_type": "stream",
     "text": [
      "/home/jaidev/anaconda3/envs/my_env/lib/python3.9/site-packages/xgboost/sklearn.py:888: UserWarning: The use of label encoder in XGBClassifier is deprecated and will be removed in a future release. To remove this warning, do the following: 1) Pass option use_label_encoder=False when constructing XGBClassifier object; and 2) Encode your labels (y) as integers starting with 0, i.e. 0, 1, 2, ..., [num_class - 1].\n",
      "  warnings.warn(label_encoder_deprecation_msg, UserWarning)\n",
      "\n"
     ]
    },
    {
     "name": "stdout",
     "output_type": "stream",
     "text": [
      "0.8469105986977179                                                                   \n",
      " 56%|█████▌    | 56/100 [1:10:43<42:59, 58.62s/trial, best loss: 0.09423288161845833]"
     ]
    },
    {
     "name": "stderr",
     "output_type": "stream",
     "text": [
      "/home/jaidev/anaconda3/envs/my_env/lib/python3.9/site-packages/xgboost/sklearn.py:888: UserWarning: The use of label encoder in XGBClassifier is deprecated and will be removed in a future release. To remove this warning, do the following: 1) Pass option use_label_encoder=False when constructing XGBClassifier object; and 2) Encode your labels (y) as integers starting with 0, i.e. 0, 1, 2, ..., [num_class - 1].\n",
      "  warnings.warn(label_encoder_deprecation_msg, UserWarning)\n",
      "\n"
     ]
    },
    {
     "name": "stdout",
     "output_type": "stream",
     "text": [
      "0.9033140329379783                                                                   \n",
      " 57%|█████▋    | 57/100 [1:12:07<47:22, 66.10s/trial, best loss: 0.09423288161845833]"
     ]
    },
    {
     "name": "stderr",
     "output_type": "stream",
     "text": [
      "/home/jaidev/anaconda3/envs/my_env/lib/python3.9/site-packages/xgboost/sklearn.py:888: UserWarning: The use of label encoder in XGBClassifier is deprecated and will be removed in a future release. To remove this warning, do the following: 1) Pass option use_label_encoder=False when constructing XGBClassifier object; and 2) Encode your labels (y) as integers starting with 0, i.e. 0, 1, 2, ..., [num_class - 1].\n",
      "  warnings.warn(label_encoder_deprecation_msg, UserWarning)\n",
      "\n"
     ]
    },
    {
     "name": "stdout",
     "output_type": "stream",
     "text": [
      "0.8862915922158032                                                                   \n",
      " 58%|█████▊    | 58/100 [1:13:39<51:45, 73.94s/trial, best loss: 0.09423288161845833]"
     ]
    },
    {
     "name": "stderr",
     "output_type": "stream",
     "text": [
      "/home/jaidev/anaconda3/envs/my_env/lib/python3.9/site-packages/xgboost/sklearn.py:888: UserWarning: The use of label encoder in XGBClassifier is deprecated and will be removed in a future release. To remove this warning, do the following: 1) Pass option use_label_encoder=False when constructing XGBClassifier object; and 2) Encode your labels (y) as integers starting with 0, i.e. 0, 1, 2, ..., [num_class - 1].\n",
      "  warnings.warn(label_encoder_deprecation_msg, UserWarning)\n",
      "\n"
     ]
    },
    {
     "name": "stdout",
     "output_type": "stream",
     "text": [
      "0.8955127568213783                                                                   \n",
      " 59%|█████▉    | 59/100 [1:15:01<52:08, 76.32s/trial, best loss: 0.09423288161845833]"
     ]
    },
    {
     "name": "stderr",
     "output_type": "stream",
     "text": [
      "/home/jaidev/anaconda3/envs/my_env/lib/python3.9/site-packages/xgboost/sklearn.py:888: UserWarning: The use of label encoder in XGBClassifier is deprecated and will be removed in a future release. To remove this warning, do the following: 1) Pass option use_label_encoder=False when constructing XGBClassifier object; and 2) Encode your labels (y) as integers starting with 0, i.e. 0, 1, 2, ..., [num_class - 1].\n",
      "  warnings.warn(label_encoder_deprecation_msg, UserWarning)\n",
      "\n"
     ]
    },
    {
     "name": "stdout",
     "output_type": "stream",
     "text": [
      "0.810011482697242                                                                    \n",
      " 60%|██████    | 60/100 [1:16:17<50:58, 76.46s/trial, best loss: 0.09423288161845833]"
     ]
    },
    {
     "name": "stderr",
     "output_type": "stream",
     "text": [
      "/home/jaidev/anaconda3/envs/my_env/lib/python3.9/site-packages/xgboost/sklearn.py:888: UserWarning: The use of label encoder in XGBClassifier is deprecated and will be removed in a future release. To remove this warning, do the following: 1) Pass option use_label_encoder=False when constructing XGBClassifier object; and 2) Encode your labels (y) as integers starting with 0, i.e. 0, 1, 2, ..., [num_class - 1].\n",
      "  warnings.warn(label_encoder_deprecation_msg, UserWarning)\n",
      "\n"
     ]
    },
    {
     "name": "stdout",
     "output_type": "stream",
     "text": [
      "0.8766108180770459                                                                   \n",
      " 61%|██████    | 61/100 [1:19:06<1:07:35, 103.98s/trial, best loss: 0.09423288161845833]"
     ]
    },
    {
     "name": "stderr",
     "output_type": "stream",
     "text": [
      "/home/jaidev/anaconda3/envs/my_env/lib/python3.9/site-packages/xgboost/sklearn.py:888: UserWarning: The use of label encoder in XGBClassifier is deprecated and will be removed in a future release. To remove this warning, do the following: 1) Pass option use_label_encoder=False when constructing XGBClassifier object; and 2) Encode your labels (y) as integers starting with 0, i.e. 0, 1, 2, ..., [num_class - 1].\n",
      "  warnings.warn(label_encoder_deprecation_msg, UserWarning)\n",
      "\n"
     ]
    },
    {
     "name": "stdout",
     "output_type": "stream",
     "text": [
      "0.7685051792611285                                                                      \n",
      " 62%|██████▏   | 62/100 [1:22:15<1:22:09, 129.72s/trial, best loss: 0.09423288161845833]"
     ]
    },
    {
     "name": "stderr",
     "output_type": "stream",
     "text": [
      "/home/jaidev/anaconda3/envs/my_env/lib/python3.9/site-packages/xgboost/sklearn.py:888: UserWarning: The use of label encoder in XGBClassifier is deprecated and will be removed in a future release. To remove this warning, do the following: 1) Pass option use_label_encoder=False when constructing XGBClassifier object; and 2) Encode your labels (y) as integers starting with 0, i.e. 0, 1, 2, ..., [num_class - 1].\n",
      "  warnings.warn(label_encoder_deprecation_msg, UserWarning)\n",
      "\n"
     ]
    },
    {
     "name": "stdout",
     "output_type": "stream",
     "text": [
      "0.8960826536106934                                                                      \n",
      " 63%|██████▎   | 63/100 [1:23:51<1:13:41, 119.50s/trial, best loss: 0.09423288161845833]"
     ]
    },
    {
     "name": "stderr",
     "output_type": "stream",
     "text": [
      "/home/jaidev/anaconda3/envs/my_env/lib/python3.9/site-packages/xgboost/sklearn.py:888: UserWarning: The use of label encoder in XGBClassifier is deprecated and will be removed in a future release. To remove this warning, do the following: 1) Pass option use_label_encoder=False when constructing XGBClassifier object; and 2) Encode your labels (y) as integers starting with 0, i.e. 0, 1, 2, ..., [num_class - 1].\n",
      "  warnings.warn(label_encoder_deprecation_msg, UserWarning)\n",
      "\n"
     ]
    },
    {
     "name": "stdout",
     "output_type": "stream",
     "text": [
      "0.8903846336349939                                                                      \n",
      " 64%|██████▍   | 64/100 [1:25:40<1:09:49, 116.37s/trial, best loss: 0.09423288161845833]"
     ]
    },
    {
     "name": "stderr",
     "output_type": "stream",
     "text": [
      "/home/jaidev/anaconda3/envs/my_env/lib/python3.9/site-packages/xgboost/sklearn.py:888: UserWarning: The use of label encoder in XGBClassifier is deprecated and will be removed in a future release. To remove this warning, do the following: 1) Pass option use_label_encoder=False when constructing XGBClassifier object; and 2) Encode your labels (y) as integers starting with 0, i.e. 0, 1, 2, ..., [num_class - 1].\n",
      "  warnings.warn(label_encoder_deprecation_msg, UserWarning)\n",
      "\n"
     ]
    },
    {
     "name": "stdout",
     "output_type": "stream",
     "text": [
      "0.841686100229727                                                                       \n",
      " 65%|██████▌   | 65/100 [1:26:51<59:50, 102.60s/trial, best loss: 0.09423288161845833]  "
     ]
    },
    {
     "name": "stderr",
     "output_type": "stream",
     "text": [
      "/home/jaidev/anaconda3/envs/my_env/lib/python3.9/site-packages/xgboost/sklearn.py:888: UserWarning: The use of label encoder in XGBClassifier is deprecated and will be removed in a future release. To remove this warning, do the following: 1) Pass option use_label_encoder=False when constructing XGBClassifier object; and 2) Encode your labels (y) as integers starting with 0, i.e. 0, 1, 2, ..., [num_class - 1].\n",
      "  warnings.warn(label_encoder_deprecation_msg, UserWarning)\n",
      "\n"
     ]
    },
    {
     "name": "stdout",
     "output_type": "stream",
     "text": [
      "0.8280229356636779                                                                    \n",
      " 66%|██████▌   | 66/100 [1:27:39<48:52, 86.25s/trial, best loss: 0.09423288161845833] "
     ]
    },
    {
     "name": "stderr",
     "output_type": "stream",
     "text": [
      "/home/jaidev/anaconda3/envs/my_env/lib/python3.9/site-packages/xgboost/sklearn.py:888: UserWarning: The use of label encoder in XGBClassifier is deprecated and will be removed in a future release. To remove this warning, do the following: 1) Pass option use_label_encoder=False when constructing XGBClassifier object; and 2) Encode your labels (y) as integers starting with 0, i.e. 0, 1, 2, ..., [num_class - 1].\n",
      "  warnings.warn(label_encoder_deprecation_msg, UserWarning)\n",
      "\n"
     ]
    },
    {
     "name": "stdout",
     "output_type": "stream",
     "text": [
      "0.8337161407331006                                                                   \n",
      " 67%|██████▋   | 67/100 [1:28:38<42:54, 78.03s/trial, best loss: 0.09423288161845833]"
     ]
    },
    {
     "name": "stderr",
     "output_type": "stream",
     "text": [
      "/home/jaidev/anaconda3/envs/my_env/lib/python3.9/site-packages/xgboost/sklearn.py:888: UserWarning: The use of label encoder in XGBClassifier is deprecated and will be removed in a future release. To remove this warning, do the following: 1) Pass option use_label_encoder=False when constructing XGBClassifier object; and 2) Encode your labels (y) as integers starting with 0, i.e. 0, 1, 2, ..., [num_class - 1].\n",
      "  warnings.warn(label_encoder_deprecation_msg, UserWarning)\n",
      "\n"
     ]
    },
    {
     "name": "stdout",
     "output_type": "stream",
     "text": [
      "0.8223861445419286                                                                   \n",
      " 68%|██████▊   | 68/100 [1:29:17<35:21, 66.30s/trial, best loss: 0.09423288161845833]"
     ]
    },
    {
     "name": "stderr",
     "output_type": "stream",
     "text": [
      "/home/jaidev/anaconda3/envs/my_env/lib/python3.9/site-packages/xgboost/sklearn.py:888: UserWarning: The use of label encoder in XGBClassifier is deprecated and will be removed in a future release. To remove this warning, do the following: 1) Pass option use_label_encoder=False when constructing XGBClassifier object; and 2) Encode your labels (y) as integers starting with 0, i.e. 0, 1, 2, ..., [num_class - 1].\n",
      "  warnings.warn(label_encoder_deprecation_msg, UserWarning)\n",
      "\n"
     ]
    },
    {
     "name": "stdout",
     "output_type": "stream",
     "text": [
      "0.831378157451947                                                                    \n",
      " 69%|██████▉   | 69/100 [1:29:56<30:09, 58.39s/trial, best loss: 0.09423288161845833]"
     ]
    },
    {
     "name": "stderr",
     "output_type": "stream",
     "text": [
      "/home/jaidev/anaconda3/envs/my_env/lib/python3.9/site-packages/xgboost/sklearn.py:888: UserWarning: The use of label encoder in XGBClassifier is deprecated and will be removed in a future release. To remove this warning, do the following: 1) Pass option use_label_encoder=False when constructing XGBClassifier object; and 2) Encode your labels (y) as integers starting with 0, i.e. 0, 1, 2, ..., [num_class - 1].\n",
      "  warnings.warn(label_encoder_deprecation_msg, UserWarning)\n",
      "\n"
     ]
    },
    {
     "name": "stdout",
     "output_type": "stream",
     "text": [
      "0.8986075658457539                                                                   \n",
      " 70%|███████   | 70/100 [1:31:31<34:39, 69.32s/trial, best loss: 0.09423288161845833]"
     ]
    },
    {
     "name": "stderr",
     "output_type": "stream",
     "text": [
      "/home/jaidev/anaconda3/envs/my_env/lib/python3.9/site-packages/xgboost/sklearn.py:888: UserWarning: The use of label encoder in XGBClassifier is deprecated and will be removed in a future release. To remove this warning, do the following: 1) Pass option use_label_encoder=False when constructing XGBClassifier object; and 2) Encode your labels (y) as integers starting with 0, i.e. 0, 1, 2, ..., [num_class - 1].\n",
      "  warnings.warn(label_encoder_deprecation_msg, UserWarning)\n",
      "\n"
     ]
    },
    {
     "name": "stdout",
     "output_type": "stream",
     "text": [
      "0.8758112882852515                                                                   \n",
      " 71%|███████   | 71/100 [1:32:55<35:31, 73.51s/trial, best loss: 0.09423288161845833]"
     ]
    },
    {
     "name": "stderr",
     "output_type": "stream",
     "text": [
      "/home/jaidev/anaconda3/envs/my_env/lib/python3.9/site-packages/xgboost/sklearn.py:888: UserWarning: The use of label encoder in XGBClassifier is deprecated and will be removed in a future release. To remove this warning, do the following: 1) Pass option use_label_encoder=False when constructing XGBClassifier object; and 2) Encode your labels (y) as integers starting with 0, i.e. 0, 1, 2, ..., [num_class - 1].\n",
      "  warnings.warn(label_encoder_deprecation_msg, UserWarning)\n",
      "\n"
     ]
    },
    {
     "name": "stdout",
     "output_type": "stream",
     "text": [
      "0.8516432327205056                                                                   \n",
      " 72%|███████▏  | 72/100 [1:33:59<33:03, 70.84s/trial, best loss: 0.09423288161845833]"
     ]
    },
    {
     "name": "stderr",
     "output_type": "stream",
     "text": [
      "/home/jaidev/anaconda3/envs/my_env/lib/python3.9/site-packages/xgboost/sklearn.py:888: UserWarning: The use of label encoder in XGBClassifier is deprecated and will be removed in a future release. To remove this warning, do the following: 1) Pass option use_label_encoder=False when constructing XGBClassifier object; and 2) Encode your labels (y) as integers starting with 0, i.e. 0, 1, 2, ..., [num_class - 1].\n",
      "  warnings.warn(label_encoder_deprecation_msg, UserWarning)\n",
      "\n"
     ]
    },
    {
     "name": "stdout",
     "output_type": "stream",
     "text": [
      "0.822044262314639                                                                    \n",
      " 73%|███████▎  | 73/100 [1:35:00<30:27, 67.70s/trial, best loss: 0.09423288161845833]"
     ]
    },
    {
     "name": "stderr",
     "output_type": "stream",
     "text": [
      "/home/jaidev/anaconda3/envs/my_env/lib/python3.9/site-packages/xgboost/sklearn.py:888: UserWarning: The use of label encoder in XGBClassifier is deprecated and will be removed in a future release. To remove this warning, do the following: 1) Pass option use_label_encoder=False when constructing XGBClassifier object; and 2) Encode your labels (y) as integers starting with 0, i.e. 0, 1, 2, ..., [num_class - 1].\n",
      "  warnings.warn(label_encoder_deprecation_msg, UserWarning)\n",
      "\n"
     ]
    },
    {
     "name": "stdout",
     "output_type": "stream",
     "text": [
      "0.8988698432147109                                                                   \n",
      " 74%|███████▍  | 74/100 [1:35:34<25:02, 57.77s/trial, best loss: 0.09423288161845833]"
     ]
    },
    {
     "name": "stderr",
     "output_type": "stream",
     "text": [
      "/home/jaidev/anaconda3/envs/my_env/lib/python3.9/site-packages/xgboost/sklearn.py:888: UserWarning: The use of label encoder in XGBClassifier is deprecated and will be removed in a future release. To remove this warning, do the following: 1) Pass option use_label_encoder=False when constructing XGBClassifier object; and 2) Encode your labels (y) as integers starting with 0, i.e. 0, 1, 2, ..., [num_class - 1].\n",
      "  warnings.warn(label_encoder_deprecation_msg, UserWarning)\n",
      "\n"
     ]
    },
    {
     "name": "stdout",
     "output_type": "stream",
     "text": [
      "0.8126171626428569                                                                   \n",
      " 75%|███████▌  | 75/100 [1:36:07<20:57, 50.30s/trial, best loss: 0.09423288161845833]"
     ]
    },
    {
     "name": "stderr",
     "output_type": "stream",
     "text": [
      "/home/jaidev/anaconda3/envs/my_env/lib/python3.9/site-packages/xgboost/sklearn.py:888: UserWarning: The use of label encoder in XGBClassifier is deprecated and will be removed in a future release. To remove this warning, do the following: 1) Pass option use_label_encoder=False when constructing XGBClassifier object; and 2) Encode your labels (y) as integers starting with 0, i.e. 0, 1, 2, ..., [num_class - 1].\n",
      "  warnings.warn(label_encoder_deprecation_msg, UserWarning)\n",
      "\n"
     ]
    },
    {
     "name": "stdout",
     "output_type": "stream",
     "text": [
      "0.818685882638583                                                                    \n",
      " 76%|███████▌  | 76/100 [1:36:41<18:09, 45.40s/trial, best loss: 0.09423288161845833]"
     ]
    },
    {
     "name": "stderr",
     "output_type": "stream",
     "text": [
      "/home/jaidev/anaconda3/envs/my_env/lib/python3.9/site-packages/xgboost/sklearn.py:888: UserWarning: The use of label encoder in XGBClassifier is deprecated and will be removed in a future release. To remove this warning, do the following: 1) Pass option use_label_encoder=False when constructing XGBClassifier object; and 2) Encode your labels (y) as integers starting with 0, i.e. 0, 1, 2, ..., [num_class - 1].\n",
      "  warnings.warn(label_encoder_deprecation_msg, UserWarning)\n",
      "\n"
     ]
    },
    {
     "name": "stdout",
     "output_type": "stream",
     "text": [
      "0.7646318415928239                                                                   \n",
      " 77%|███████▋  | 77/100 [1:37:08<15:18, 39.92s/trial, best loss: 0.09423288161845833]"
     ]
    },
    {
     "name": "stderr",
     "output_type": "stream",
     "text": [
      "/home/jaidev/anaconda3/envs/my_env/lib/python3.9/site-packages/xgboost/sklearn.py:888: UserWarning: The use of label encoder in XGBClassifier is deprecated and will be removed in a future release. To remove this warning, do the following: 1) Pass option use_label_encoder=False when constructing XGBClassifier object; and 2) Encode your labels (y) as integers starting with 0, i.e. 0, 1, 2, ..., [num_class - 1].\n",
      "  warnings.warn(label_encoder_deprecation_msg, UserWarning)\n",
      "\n"
     ]
    },
    {
     "name": "stdout",
     "output_type": "stream",
     "text": [
      "0.8438617875513521                                                                   \n",
      " 78%|███████▊  | 78/100 [1:37:56<15:32, 42.41s/trial, best loss: 0.09423288161845833]"
     ]
    },
    {
     "name": "stderr",
     "output_type": "stream",
     "text": [
      "/home/jaidev/anaconda3/envs/my_env/lib/python3.9/site-packages/xgboost/sklearn.py:888: UserWarning: The use of label encoder in XGBClassifier is deprecated and will be removed in a future release. To remove this warning, do the following: 1) Pass option use_label_encoder=False when constructing XGBClassifier object; and 2) Encode your labels (y) as integers starting with 0, i.e. 0, 1, 2, ..., [num_class - 1].\n",
      "  warnings.warn(label_encoder_deprecation_msg, UserWarning)\n",
      "\n"
     ]
    },
    {
     "name": "stdout",
     "output_type": "stream",
     "text": [
      "0.8235673617457531                                                                   \n",
      " 79%|███████▉  | 79/100 [1:38:43<15:15, 43.58s/trial, best loss: 0.09423288161845833]"
     ]
    },
    {
     "name": "stderr",
     "output_type": "stream",
     "text": [
      "/home/jaidev/anaconda3/envs/my_env/lib/python3.9/site-packages/xgboost/sklearn.py:888: UserWarning: The use of label encoder in XGBClassifier is deprecated and will be removed in a future release. To remove this warning, do the following: 1) Pass option use_label_encoder=False when constructing XGBClassifier object; and 2) Encode your labels (y) as integers starting with 0, i.e. 0, 1, 2, ..., [num_class - 1].\n",
      "  warnings.warn(label_encoder_deprecation_msg, UserWarning)\n",
      "\n"
     ]
    },
    {
     "name": "stdout",
     "output_type": "stream",
     "text": [
      "0.8957459500254467                                                                   \n",
      " 80%|████████  | 80/100 [1:39:41<15:59, 47.95s/trial, best loss: 0.09423288161845833]"
     ]
    },
    {
     "name": "stderr",
     "output_type": "stream",
     "text": [
      "/home/jaidev/anaconda3/envs/my_env/lib/python3.9/site-packages/xgboost/sklearn.py:888: UserWarning: The use of label encoder in XGBClassifier is deprecated and will be removed in a future release. To remove this warning, do the following: 1) Pass option use_label_encoder=False when constructing XGBClassifier object; and 2) Encode your labels (y) as integers starting with 0, i.e. 0, 1, 2, ..., [num_class - 1].\n",
      "  warnings.warn(label_encoder_deprecation_msg, UserWarning)\n",
      "\n"
     ]
    },
    {
     "name": "stdout",
     "output_type": "stream",
     "text": [
      "0.8477222401557019                                                                   \n",
      " 81%|████████  | 81/100 [1:40:39<16:11, 51.14s/trial, best loss: 0.09423288161845833]"
     ]
    },
    {
     "name": "stderr",
     "output_type": "stream",
     "text": [
      "/home/jaidev/anaconda3/envs/my_env/lib/python3.9/site-packages/xgboost/sklearn.py:888: UserWarning: The use of label encoder in XGBClassifier is deprecated and will be removed in a future release. To remove this warning, do the following: 1) Pass option use_label_encoder=False when constructing XGBClassifier object; and 2) Encode your labels (y) as integers starting with 0, i.e. 0, 1, 2, ..., [num_class - 1].\n",
      "  warnings.warn(label_encoder_deprecation_msg, UserWarning)\n",
      "\n"
     ]
    },
    {
     "name": "stdout",
     "output_type": "stream",
     "text": [
      "0.8629549245522189                                                                   \n",
      " 82%|████████▏ | 82/100 [1:41:49<17:00, 56.72s/trial, best loss: 0.09423288161845833]"
     ]
    },
    {
     "name": "stderr",
     "output_type": "stream",
     "text": [
      "/home/jaidev/anaconda3/envs/my_env/lib/python3.9/site-packages/xgboost/sklearn.py:888: UserWarning: The use of label encoder in XGBClassifier is deprecated and will be removed in a future release. To remove this warning, do the following: 1) Pass option use_label_encoder=False when constructing XGBClassifier object; and 2) Encode your labels (y) as integers starting with 0, i.e. 0, 1, 2, ..., [num_class - 1].\n",
      "  warnings.warn(label_encoder_deprecation_msg, UserWarning)\n",
      "\n"
     ]
    },
    {
     "name": "stdout",
     "output_type": "stream",
     "text": [
      "0.8978049369517508                                                                   \n",
      " 83%|████████▎ | 83/100 [1:43:25<19:23, 68.46s/trial, best loss: 0.09423288161845833]"
     ]
    },
    {
     "name": "stderr",
     "output_type": "stream",
     "text": [
      "/home/jaidev/anaconda3/envs/my_env/lib/python3.9/site-packages/xgboost/sklearn.py:888: UserWarning: The use of label encoder in XGBClassifier is deprecated and will be removed in a future release. To remove this warning, do the following: 1) Pass option use_label_encoder=False when constructing XGBClassifier object; and 2) Encode your labels (y) as integers starting with 0, i.e. 0, 1, 2, ..., [num_class - 1].\n",
      "  warnings.warn(label_encoder_deprecation_msg, UserWarning)\n",
      "\n"
     ]
    },
    {
     "name": "stdout",
     "output_type": "stream",
     "text": [
      "0.8928486807518701                                                                   \n",
      " 84%|████████▍ | 84/100 [1:44:00<15:36, 58.52s/trial, best loss: 0.09423288161845833]"
     ]
    },
    {
     "name": "stderr",
     "output_type": "stream",
     "text": [
      "/home/jaidev/anaconda3/envs/my_env/lib/python3.9/site-packages/xgboost/sklearn.py:888: UserWarning: The use of label encoder in XGBClassifier is deprecated and will be removed in a future release. To remove this warning, do the following: 1) Pass option use_label_encoder=False when constructing XGBClassifier object; and 2) Encode your labels (y) as integers starting with 0, i.e. 0, 1, 2, ..., [num_class - 1].\n",
      "  warnings.warn(label_encoder_deprecation_msg, UserWarning)\n",
      "\n"
     ]
    },
    {
     "name": "stdout",
     "output_type": "stream",
     "text": [
      "0.84622053132691                                                                     \n",
      " 85%|████████▌ | 85/100 [1:44:56<14:23, 57.56s/trial, best loss: 0.09423288161845833]"
     ]
    },
    {
     "name": "stderr",
     "output_type": "stream",
     "text": [
      "/home/jaidev/anaconda3/envs/my_env/lib/python3.9/site-packages/xgboost/sklearn.py:888: UserWarning: The use of label encoder in XGBClassifier is deprecated and will be removed in a future release. To remove this warning, do the following: 1) Pass option use_label_encoder=False when constructing XGBClassifier object; and 2) Encode your labels (y) as integers starting with 0, i.e. 0, 1, 2, ..., [num_class - 1].\n",
      "  warnings.warn(label_encoder_deprecation_msg, UserWarning)\n",
      "\n"
     ]
    },
    {
     "name": "stdout",
     "output_type": "stream",
     "text": [
      "0.8942644689467552                                                                   \n",
      " 86%|████████▌ | 86/100 [1:45:41<12:34, 53.91s/trial, best loss: 0.09423288161845833]"
     ]
    },
    {
     "name": "stderr",
     "output_type": "stream",
     "text": [
      "/home/jaidev/anaconda3/envs/my_env/lib/python3.9/site-packages/xgboost/sklearn.py:888: UserWarning: The use of label encoder in XGBClassifier is deprecated and will be removed in a future release. To remove this warning, do the following: 1) Pass option use_label_encoder=False when constructing XGBClassifier object; and 2) Encode your labels (y) as integers starting with 0, i.e. 0, 1, 2, ..., [num_class - 1].\n",
      "  warnings.warn(label_encoder_deprecation_msg, UserWarning)\n",
      "\n"
     ]
    },
    {
     "name": "stdout",
     "output_type": "stream",
     "text": [
      "0.8699920910250297                                                                   \n",
      " 87%|████████▋ | 87/100 [1:47:25<14:57, 69.01s/trial, best loss: 0.09423288161845833]"
     ]
    },
    {
     "name": "stderr",
     "output_type": "stream",
     "text": [
      "/home/jaidev/anaconda3/envs/my_env/lib/python3.9/site-packages/xgboost/sklearn.py:888: UserWarning: The use of label encoder in XGBClassifier is deprecated and will be removed in a future release. To remove this warning, do the following: 1) Pass option use_label_encoder=False when constructing XGBClassifier object; and 2) Encode your labels (y) as integers starting with 0, i.e. 0, 1, 2, ..., [num_class - 1].\n",
      "  warnings.warn(label_encoder_deprecation_msg, UserWarning)\n",
      "\n"
     ]
    },
    {
     "name": "stdout",
     "output_type": "stream",
     "text": [
      "0.8814075008244953                                                                   \n",
      " 88%|████████▊ | 88/100 [1:49:01<15:26, 77.17s/trial, best loss: 0.09423288161845833]"
     ]
    },
    {
     "name": "stderr",
     "output_type": "stream",
     "text": [
      "/home/jaidev/anaconda3/envs/my_env/lib/python3.9/site-packages/xgboost/sklearn.py:888: UserWarning: The use of label encoder in XGBClassifier is deprecated and will be removed in a future release. To remove this warning, do the following: 1) Pass option use_label_encoder=False when constructing XGBClassifier object; and 2) Encode your labels (y) as integers starting with 0, i.e. 0, 1, 2, ..., [num_class - 1].\n",
      "  warnings.warn(label_encoder_deprecation_msg, UserWarning)\n",
      "\n"
     ]
    },
    {
     "name": "stdout",
     "output_type": "stream",
     "text": [
      "0.8673377164129985                                                                   \n",
      " 89%|████████▉ | 89/100 [1:50:08<13:33, 73.94s/trial, best loss: 0.09423288161845833]"
     ]
    },
    {
     "name": "stderr",
     "output_type": "stream",
     "text": [
      "/home/jaidev/anaconda3/envs/my_env/lib/python3.9/site-packages/xgboost/sklearn.py:888: UserWarning: The use of label encoder in XGBClassifier is deprecated and will be removed in a future release. To remove this warning, do the following: 1) Pass option use_label_encoder=False when constructing XGBClassifier object; and 2) Encode your labels (y) as integers starting with 0, i.e. 0, 1, 2, ..., [num_class - 1].\n",
      "  warnings.warn(label_encoder_deprecation_msg, UserWarning)\n",
      "\n"
     ]
    },
    {
     "name": "stdout",
     "output_type": "stream",
     "text": [
      "0.84616508550423                                                                     \n",
      " 90%|█████████ | 90/100 [1:51:05<11:29, 68.99s/trial, best loss: 0.09423288161845833]"
     ]
    },
    {
     "name": "stderr",
     "output_type": "stream",
     "text": [
      "/home/jaidev/anaconda3/envs/my_env/lib/python3.9/site-packages/xgboost/sklearn.py:888: UserWarning: The use of label encoder in XGBClassifier is deprecated and will be removed in a future release. To remove this warning, do the following: 1) Pass option use_label_encoder=False when constructing XGBClassifier object; and 2) Encode your labels (y) as integers starting with 0, i.e. 0, 1, 2, ..., [num_class - 1].\n",
      "  warnings.warn(label_encoder_deprecation_msg, UserWarning)\n",
      "\n"
     ]
    },
    {
     "name": "stdout",
     "output_type": "stream",
     "text": [
      "0.8975609896609431                                                                   \n",
      " 91%|█████████ | 91/100 [1:52:22<10:40, 71.16s/trial, best loss: 0.09423288161845833]"
     ]
    },
    {
     "name": "stderr",
     "output_type": "stream",
     "text": [
      "/home/jaidev/anaconda3/envs/my_env/lib/python3.9/site-packages/xgboost/sklearn.py:888: UserWarning: The use of label encoder in XGBClassifier is deprecated and will be removed in a future release. To remove this warning, do the following: 1) Pass option use_label_encoder=False when constructing XGBClassifier object; and 2) Encode your labels (y) as integers starting with 0, i.e. 0, 1, 2, ..., [num_class - 1].\n",
      "  warnings.warn(label_encoder_deprecation_msg, UserWarning)\n",
      "\n"
     ]
    },
    {
     "name": "stdout",
     "output_type": "stream",
     "text": [
      "0.8718008534629881                                                                   \n",
      " 92%|█████████▏| 92/100 [1:53:45<09:58, 74.85s/trial, best loss: 0.09423288161845833]"
     ]
    },
    {
     "name": "stderr",
     "output_type": "stream",
     "text": [
      "/home/jaidev/anaconda3/envs/my_env/lib/python3.9/site-packages/xgboost/sklearn.py:888: UserWarning: The use of label encoder in XGBClassifier is deprecated and will be removed in a future release. To remove this warning, do the following: 1) Pass option use_label_encoder=False when constructing XGBClassifier object; and 2) Encode your labels (y) as integers starting with 0, i.e. 0, 1, 2, ..., [num_class - 1].\n",
      "  warnings.warn(label_encoder_deprecation_msg, UserWarning)\n",
      "\n"
     ]
    },
    {
     "name": "stdout",
     "output_type": "stream",
     "text": [
      "0.8582077484469871                                                                   \n",
      " 93%|█████████▎| 93/100 [1:55:17<09:19, 79.94s/trial, best loss: 0.09423288161845833]"
     ]
    },
    {
     "name": "stderr",
     "output_type": "stream",
     "text": [
      "/home/jaidev/anaconda3/envs/my_env/lib/python3.9/site-packages/xgboost/sklearn.py:888: UserWarning: The use of label encoder in XGBClassifier is deprecated and will be removed in a future release. To remove this warning, do the following: 1) Pass option use_label_encoder=False when constructing XGBClassifier object; and 2) Encode your labels (y) as integers starting with 0, i.e. 0, 1, 2, ..., [num_class - 1].\n",
      "  warnings.warn(label_encoder_deprecation_msg, UserWarning)\n",
      "\n"
     ]
    },
    {
     "name": "stdout",
     "output_type": "stream",
     "text": [
      "0.8524064587435701                                                                   \n",
      " 94%|█████████▍| 94/100 [1:56:22<07:33, 75.51s/trial, best loss: 0.09423288161845833]"
     ]
    },
    {
     "name": "stderr",
     "output_type": "stream",
     "text": [
      "/home/jaidev/anaconda3/envs/my_env/lib/python3.9/site-packages/xgboost/sklearn.py:888: UserWarning: The use of label encoder in XGBClassifier is deprecated and will be removed in a future release. To remove this warning, do the following: 1) Pass option use_label_encoder=False when constructing XGBClassifier object; and 2) Encode your labels (y) as integers starting with 0, i.e. 0, 1, 2, ..., [num_class - 1].\n",
      "  warnings.warn(label_encoder_deprecation_msg, UserWarning)\n",
      "\n"
     ]
    },
    {
     "name": "stdout",
     "output_type": "stream",
     "text": [
      "0.854670776346854                                                                    \n",
      " 95%|█████████▌| 95/100 [1:57:18<05:47, 69.52s/trial, best loss: 0.09423288161845833]"
     ]
    },
    {
     "name": "stderr",
     "output_type": "stream",
     "text": [
      "/home/jaidev/anaconda3/envs/my_env/lib/python3.9/site-packages/xgboost/sklearn.py:888: UserWarning: The use of label encoder in XGBClassifier is deprecated and will be removed in a future release. To remove this warning, do the following: 1) Pass option use_label_encoder=False when constructing XGBClassifier object; and 2) Encode your labels (y) as integers starting with 0, i.e. 0, 1, 2, ..., [num_class - 1].\n",
      "  warnings.warn(label_encoder_deprecation_msg, UserWarning)\n",
      "\n"
     ]
    },
    {
     "name": "stdout",
     "output_type": "stream",
     "text": [
      "0.8926038369809925                                                                   \n",
      " 96%|█████████▌| 96/100 [1:58:20<04:29, 67.47s/trial, best loss: 0.09423288161845833]"
     ]
    },
    {
     "name": "stderr",
     "output_type": "stream",
     "text": [
      "/home/jaidev/anaconda3/envs/my_env/lib/python3.9/site-packages/xgboost/sklearn.py:888: UserWarning: The use of label encoder in XGBClassifier is deprecated and will be removed in a future release. To remove this warning, do the following: 1) Pass option use_label_encoder=False when constructing XGBClassifier object; and 2) Encode your labels (y) as integers starting with 0, i.e. 0, 1, 2, ..., [num_class - 1].\n",
      "  warnings.warn(label_encoder_deprecation_msg, UserWarning)\n",
      "\n"
     ]
    },
    {
     "name": "stdout",
     "output_type": "stream",
     "text": [
      "0.8908531840872334                                                                   \n",
      " 97%|█████████▋| 97/100 [1:59:30<03:24, 68.27s/trial, best loss: 0.09423288161845833]"
     ]
    },
    {
     "name": "stderr",
     "output_type": "stream",
     "text": [
      "/home/jaidev/anaconda3/envs/my_env/lib/python3.9/site-packages/xgboost/sklearn.py:888: UserWarning: The use of label encoder in XGBClassifier is deprecated and will be removed in a future release. To remove this warning, do the following: 1) Pass option use_label_encoder=False when constructing XGBClassifier object; and 2) Encode your labels (y) as integers starting with 0, i.e. 0, 1, 2, ..., [num_class - 1].\n",
      "  warnings.warn(label_encoder_deprecation_msg, UserWarning)\n",
      "\n"
     ]
    },
    {
     "name": "stdout",
     "output_type": "stream",
     "text": [
      "0.8273796652873353                                                                   \n",
      " 98%|█████████▊| 98/100 [2:01:09<02:34, 77.43s/trial, best loss: 0.09423288161845833]"
     ]
    },
    {
     "name": "stderr",
     "output_type": "stream",
     "text": [
      "/home/jaidev/anaconda3/envs/my_env/lib/python3.9/site-packages/xgboost/sklearn.py:888: UserWarning: The use of label encoder in XGBClassifier is deprecated and will be removed in a future release. To remove this warning, do the following: 1) Pass option use_label_encoder=False when constructing XGBClassifier object; and 2) Encode your labels (y) as integers starting with 0, i.e. 0, 1, 2, ..., [num_class - 1].\n",
      "  warnings.warn(label_encoder_deprecation_msg, UserWarning)\n",
      "\n"
     ]
    },
    {
     "name": "stdout",
     "output_type": "stream",
     "text": [
      "0.8944672332658301                                                                   \n",
      " 99%|█████████▉| 99/100 [2:02:41<01:21, 81.85s/trial, best loss: 0.09423288161845833]"
     ]
    },
    {
     "name": "stderr",
     "output_type": "stream",
     "text": [
      "/home/jaidev/anaconda3/envs/my_env/lib/python3.9/site-packages/xgboost/sklearn.py:888: UserWarning: The use of label encoder in XGBClassifier is deprecated and will be removed in a future release. To remove this warning, do the following: 1) Pass option use_label_encoder=False when constructing XGBClassifier object; and 2) Encode your labels (y) as integers starting with 0, i.e. 0, 1, 2, ..., [num_class - 1].\n",
      "  warnings.warn(label_encoder_deprecation_msg, UserWarning)\n",
      "\n"
     ]
    },
    {
     "name": "stdout",
     "output_type": "stream",
     "text": [
      "0.8218025892908939                                                                   \n",
      "100%|██████████| 100/100 [2:03:46<00:00, 74.27s/trial, best loss: 0.09423288161845833]\n"
     ]
    },
    {
     "data": {
      "text/plain": [
       "{'eta': 0.375,\n",
       " 'eval_metric': 'auc',\n",
       " 'gamma': 0.5,\n",
       " 'n_estimators': 900,\n",
       " 'scale_pos_weight': 28,\n",
       " 'subsample': 0.9}"
      ]
     },
     "execution_count": 26,
     "metadata": {},
     "output_type": "execute_result"
    }
   ],
   "source": [
    "\n",
    "\n",
    "def score(params):\n",
    "\n",
    "    model = XGBClassifier(**params)\n",
    "\n",
    "    model.fit(x_train, y_train, eval_set=[(x_train, y_train), (x_test, y_test)],\n",
    "\n",
    "              verbose=False, early_stopping_rounds=10,eval_metric='auc')\n",
    "\n",
    "    Y_pred = model.predict(x_test)\n",
    "\n",
    "    score = roc_auc_score(y_test, Y_pred)\n",
    "#     score=np.sqrt(-cross_val_score(model,train_X,train_y,cv=kfolds,scoring='neg_mean_squared_error'))\n",
    "\n",
    "    print(score)\n",
    "    \n",
    "    loss=1-score\n",
    "\n",
    "    return {'loss': loss, 'status': STATUS_OK}\n",
    "\n",
    "\n",
    "\n",
    "def optimize(trials, space):\n",
    "\n",
    "    best = fmin(score, space, algo=tpe.suggest, max_evals=100)\n",
    "\n",
    "    return best\n",
    "\n",
    "\n",
    "trials = Trials()\n",
    "\n",
    "best_params = optimize(trials, space)\n",
    "\n",
    "\n",
    "# Return the best parameters\n",
    "\n",
    "space_eval(space, best_params)"
   ]
  },
  {
   "cell_type": "code",
   "execution_count": 23,
   "metadata": {},
   "outputs": [],
   "source": [
    "space = {\n",
    "\n",
    "\n",
    "        'n_estimators':hp.choice('n_estimators', np.arange(400, 1200, 10, dtype=int)),\n",
    "\n",
    "    \n",
    "        'min_child_weight': hp.uniform ('min_child_weight', 1,30),\n",
    "    \n",
    "        'max_depth':hp.choice('max_depth', np.arange(5, 13, 1, dtype=int)),\n",
    "\n",
    "        'subsample':hp.quniform('subsample', 0.3, 0.9, 0.01),\n",
    "\n",
    "        'learning_rate':hp.quniform('learning_rate', 0.05, 0.5, 0.01),\n",
    "        \n",
    "        'bagging_fraction': hp.uniform('bagging_fraction',0.5, 1),\n",
    "    \n",
    "        'scale_pos_weight': hp.choice('scale_pos_weight', np.arange(1, 1000, 1, dtype=int))\n",
    "\n",
    "        \n",
    "\n",
    "    }"
   ]
  },
  {
   "cell_type": "code",
   "execution_count": 24,
   "metadata": {},
   "outputs": [
    {
     "name": "stdout",
     "output_type": "stream",
     "text": [
      "[LightGBM] [Warning] bagging_fraction is set=0.9135915653549032, subsample=0.84 will be ignored. Current value: bagging_fraction=0.9135915653549032\n",
      "0.5552197480421454                                     \n",
      "[LightGBM] [Warning] bagging_fraction is set=0.6605986526718193, subsample=0.41000000000000003 will be ignored. Current value: bagging_fraction=0.6605986526718193\n",
      "0.5                                                                               \n",
      "[LightGBM] [Warning] bagging_fraction is set=0.847108771041438, subsample=0.51 will be ignored. Current value: bagging_fraction=0.847108771041438\n",
      "0.5883296797667744                                                                \n",
      "[LightGBM] [Warning] bagging_fraction is set=0.8056972769087627, subsample=0.4 will be ignored. Current value: bagging_fraction=0.8056972769087627\n",
      "0.5                                                                              \n",
      "[LightGBM] [Warning] bagging_fraction is set=0.6978511225542966, subsample=0.84 will be ignored. Current value: bagging_fraction=0.6978511225542966\n",
      "0.5                                                                              \n",
      "[LightGBM] [Warning] bagging_fraction is set=0.7968377478681974, subsample=0.4 will be ignored. Current value: bagging_fraction=0.7968377478681974\n",
      "0.618804944744514                                                                \n",
      "[LightGBM] [Warning] bagging_fraction is set=0.9770700536271073, subsample=0.8 will be ignored. Current value: bagging_fraction=0.9770700536271073\n",
      "0.5                                                                             \n",
      "[LightGBM] [Warning] bagging_fraction is set=0.6177909868250515, subsample=0.37 will be ignored. Current value: bagging_fraction=0.6177909868250515\n",
      "0.5                                                                             \n",
      "[LightGBM] [Warning] bagging_fraction is set=0.7758320976984806, subsample=0.6900000000000001 will be ignored. Current value: bagging_fraction=0.7758320976984806\n",
      "0.5                                                                             \n",
      "[LightGBM] [Warning] bagging_fraction is set=0.532779041546894, subsample=0.61 will be ignored. Current value: bagging_fraction=0.532779041546894\n",
      "0.5                                                                             \n",
      "[LightGBM] [Warning] bagging_fraction is set=0.6681414231762426, subsample=0.71 will be ignored. Current value: bagging_fraction=0.6681414231762426\n",
      "0.6203282131841658                                                               \n",
      "[LightGBM] [Warning] bagging_fraction is set=0.5516627276076608, subsample=0.45 will be ignored. Current value: bagging_fraction=0.5516627276076608\n",
      "0.6213203961755587                                                                 \n",
      "[LightGBM] [Warning] bagging_fraction is set=0.9477131546789017, subsample=0.61 will be ignored. Current value: bagging_fraction=0.9477131546789017\n",
      "0.5                                                                               \n",
      "[LightGBM] [Warning] bagging_fraction is set=0.9080711112240858, subsample=0.5 will be ignored. Current value: bagging_fraction=0.9080711112240858\n",
      "0.5                                                                               \n",
      "[LightGBM] [Warning] bagging_fraction is set=0.7440685935448246, subsample=0.37 will be ignored. Current value: bagging_fraction=0.7440685935448246\n",
      "0.5                                                                               \n",
      "[LightGBM] [Warning] bagging_fraction is set=0.5060344193607852, subsample=0.71 will be ignored. Current value: bagging_fraction=0.5060344193607852\n",
      "0.5                                                                               \n",
      "[LightGBM] [Warning] bagging_fraction is set=0.7087722094468174, subsample=0.56 will be ignored. Current value: bagging_fraction=0.7087722094468174\n",
      "0.5                                                                               \n",
      "[LightGBM] [Warning] bagging_fraction is set=0.9329449242437751, subsample=0.39 will be ignored. Current value: bagging_fraction=0.9329449242437751\n",
      "0.5370021064966959                                                                \n",
      "[LightGBM] [Warning] bagging_fraction is set=0.6409379801874537, subsample=0.46 will be ignored. Current value: bagging_fraction=0.6409379801874537\n",
      "0.5                                                                               \n",
      "[LightGBM] [Warning] bagging_fraction is set=0.5712972638851959, subsample=0.46 will be ignored. Current value: bagging_fraction=0.5712972638851959\n",
      "0.5537752265587923                                                                \n",
      "[LightGBM] [Warning] bagging_fraction is set=0.5795500224596452, subsample=0.74 will be ignored. Current value: bagging_fraction=0.5795500224596452\n",
      "0.6203169134937773                                                                \n",
      "[LightGBM] [Warning] bagging_fraction is set=0.5036430774204501, subsample=0.32 will be ignored. Current value: bagging_fraction=0.5036430774204501\n",
      "0.626796366488386                                                                 \n",
      "[LightGBM] [Warning] bagging_fraction is set=0.5274000979233668, subsample=0.3 will be ignored. Current value: bagging_fraction=0.5274000979233668\n",
      "0.626796366488386                                                                \n",
      "[LightGBM] [Warning] bagging_fraction is set=0.50869688841328, subsample=0.3 will be ignored. Current value: bagging_fraction=0.50869688841328\n",
      "0.626796366488386                                                                \n",
      "[LightGBM] [Warning] bagging_fraction is set=0.5024031665696082, subsample=0.31 will be ignored. Current value: bagging_fraction=0.5024031665696082\n",
      "0.6224933742131675                                                               \n",
      "[LightGBM] [Warning] bagging_fraction is set=0.6113849122910477, subsample=0.32 will be ignored. Current value: bagging_fraction=0.6113849122910477\n",
      "0.6210379039158466                                                               \n",
      "[LightGBM] [Warning] bagging_fraction is set=0.5943403134512282, subsample=0.31 will be ignored. Current value: bagging_fraction=0.5943403134512282\n",
      "0.6203169134937773                                                               \n",
      "[LightGBM] [Warning] bagging_fraction is set=0.5453804903071048, subsample=0.35000000000000003 will be ignored. Current value: bagging_fraction=0.5453804903071048\n",
      "0.620215216280281                                                                \n",
      "[LightGBM] [Warning] bagging_fraction is set=0.8566804882901403, subsample=0.52 will be ignored. Current value: bagging_fraction=0.8566804882901403\n",
      "0.5615529223102766                                                               \n",
      "[LightGBM] [Warning] bagging_fraction is set=0.5144107257039128, subsample=0.65 will be ignored. Current value: bagging_fraction=0.5144107257039128\n",
      "0.62153509029294                                                                 \n",
      "[LightGBM] [Warning] bagging_fraction is set=0.7100470259037893, subsample=0.44 will be ignored. Current value: bagging_fraction=0.7100470259037893\n",
      "0.6224933742131675                                                               \n",
      "[LightGBM] [Warning] bagging_fraction is set=0.6427780115898201, subsample=0.56 will be ignored. Current value: bagging_fraction=0.6427780115898201\n",
      "0.5371038037101922                                                               \n",
      "[LightGBM] [Warning] bagging_fraction is set=0.6737959185936073, subsample=0.34 will be ignored. Current value: bagging_fraction=0.6737959185936073\n",
      "0.6203282131841658                                                               \n",
      "[LightGBM] [Warning] bagging_fraction is set=0.5566315000098943, subsample=0.9 will be ignored. Current value: bagging_fraction=0.5566315000098943\n",
      "0.5420665575535301                                                               \n",
      "[LightGBM] [Warning] bagging_fraction is set=0.5996956337569724, subsample=0.42 will be ignored. Current value: bagging_fraction=0.5996956337569724\n",
      "0.6203169134937773                                                               \n",
      "[LightGBM] [Warning] bagging_fraction is set=0.8549990176012068, subsample=0.52 will be ignored. Current value: bagging_fraction=0.8549990176012068\n"
     ]
    },
    {
     "name": "stdout",
     "output_type": "stream",
     "text": [
      "0.6202513051142399                                                               \n",
      "[LightGBM] [Warning] bagging_fraction is set=0.7506356202329616, subsample=0.49 will be ignored. Current value: bagging_fraction=0.7506356202329616\n",
      "0.6203169134937773                                                               \n",
      "[LightGBM] [Warning] bagging_fraction is set=0.5336076417141842, subsample=0.77 will be ignored. Current value: bagging_fraction=0.5336076417141842\n",
      "0.5905535290105122                                                               \n",
      "[LightGBM] [Warning] bagging_fraction is set=0.824896609059188, subsample=0.88 will be ignored. Current value: bagging_fraction=0.824896609059188\n",
      "0.6077877466157428                                                               \n",
      "[LightGBM] [Warning] bagging_fraction is set=0.6375832397412559, subsample=0.38 will be ignored. Current value: bagging_fraction=0.6375832397412559\n",
      "0.6084048500615222                                                               \n",
      "[LightGBM] [Warning] bagging_fraction is set=0.6921202347468879, subsample=0.56 will be ignored. Current value: bagging_fraction=0.6921202347468879\n",
      "0.6202513051142399                                                               \n",
      "[LightGBM] [Warning] bagging_fraction is set=0.8816836367444042, subsample=0.42 will be ignored. Current value: bagging_fraction=0.8816836367444042\n",
      "0.583787204230604                                                                \n",
      "[LightGBM] [Warning] bagging_fraction is set=0.9779192237842644, subsample=0.8300000000000001 will be ignored. Current value: bagging_fraction=0.9779192237842644\n",
      "0.5                                                                              \n",
      "[LightGBM] [Warning] bagging_fraction is set=0.7380238950282759, subsample=0.34 will be ignored. Current value: bagging_fraction=0.7380238950282759\n",
      "0.6203169134937773                                                               \n",
      "[LightGBM] [Warning] bagging_fraction is set=0.776629027457455, subsample=0.65 will be ignored. Current value: bagging_fraction=0.776629027457455\n",
      "0.5883358136744654                                                               \n",
      "[LightGBM] [Warning] bagging_fraction is set=0.5299628683628865, subsample=0.48 will be ignored. Current value: bagging_fraction=0.5299628683628865\n",
      "0.5553283654204432                                                               \n",
      "[LightGBM] [Warning] bagging_fraction is set=0.5757231788599492, subsample=0.3 will be ignored. Current value: bagging_fraction=0.5757231788599492\n",
      "0.5370316260422743                                                               \n",
      "[LightGBM] [Warning] bagging_fraction is set=0.619086364825267, subsample=0.64 will be ignored. Current value: bagging_fraction=0.619086364825267\n",
      "0.5                                                                              \n",
      "[LightGBM] [Warning] bagging_fraction is set=0.6639623642024617, subsample=0.36 will be ignored. Current value: bagging_fraction=0.6639623642024617\n",
      "0.5898325385884426                                                               \n",
      "[LightGBM] [Warning] bagging_fraction is set=0.8115404530709224, subsample=0.4 will be ignored. Current value: bagging_fraction=0.8115404530709224\n",
      "0.6077877466157428                                                               \n",
      "[LightGBM] [Warning] bagging_fraction is set=0.9960210304632063, subsample=0.54 will be ignored. Current value: bagging_fraction=0.9960210304632063\n",
      "0.620215216280281                                                                \n",
      "[LightGBM] [Warning] bagging_fraction is set=0.5247176164080939, subsample=0.68 will be ignored. Current value: bagging_fraction=0.5247176164080939\n",
      "0.5536735293452959                                                               \n",
      "[LightGBM] [Warning] bagging_fraction is set=0.5592686531813555, subsample=0.43 will be ignored. Current value: bagging_fraction=0.5592686531813555\n",
      "0.6084048500615222                                                               \n",
      "[LightGBM] [Warning] bagging_fraction is set=0.6278091030299929, subsample=0.58 will be ignored. Current value: bagging_fraction=0.6278091030299929\n",
      "0.5                                                                              \n",
      "[LightGBM] [Warning] bagging_fraction is set=0.5971033711873098, subsample=0.47000000000000003 will be ignored. Current value: bagging_fraction=0.5971033711873098\n",
      "0.5                                                                              \n",
      "[LightGBM] [Warning] bagging_fraction is set=0.5004704831169438, subsample=0.33 will be ignored. Current value: bagging_fraction=0.5004704831169438\n",
      "0.5083708808150726                                                               \n",
      "[LightGBM] [Warning] bagging_fraction is set=0.7286276471296663, subsample=0.38 will be ignored. Current value: bagging_fraction=0.7286276471296663\n",
      "0.5                                                                              \n",
      "[LightGBM] [Warning] bagging_fraction is set=0.7775296487736569, subsample=0.75 will be ignored. Current value: bagging_fraction=0.7775296487736569\n",
      "0.626796366488386                                                                \n",
      "[LightGBM] [Warning] bagging_fraction is set=0.7745820756632638, subsample=0.78 will be ignored. Current value: bagging_fraction=0.7745820756632638\n",
      "0.5                                                                              \n",
      "[LightGBM] [Warning] bagging_fraction is set=0.9057913355410764, subsample=0.74 will be ignored. Current value: bagging_fraction=0.9057913355410764\n",
      "0.6203282131841658                                                               \n",
      "[LightGBM] [Warning] bagging_fraction is set=0.8832447597434752, subsample=0.8200000000000001 will be ignored. Current value: bagging_fraction=0.8832447597434752\n",
      "0.5897873398268887                                                               \n",
      "[LightGBM] [Warning] bagging_fraction is set=0.9432781253873885, subsample=0.85 will be ignored. Current value: bagging_fraction=0.9432781253873885\n",
      "0.6084048500615222                                                               \n",
      "[LightGBM] [Warning] bagging_fraction is set=0.6512469748761889, subsample=0.63 will be ignored. Current value: bagging_fraction=0.6512469748761889\n",
      "0.5                                                                              \n",
      "[LightGBM] [Warning] bagging_fraction is set=0.8257242348807429, subsample=0.73 will be ignored. Current value: bagging_fraction=0.8257242348807429\n",
      "0.5                                                                              \n",
      "[LightGBM] [Warning] bagging_fraction is set=0.5880754187894586, subsample=0.45 will be ignored. Current value: bagging_fraction=0.5880754187894586\n",
      "0.5370021064966959                                                               \n",
      "[LightGBM] [Warning] bagging_fraction is set=0.7588256552525475, subsample=0.68 will be ignored. Current value: bagging_fraction=0.7588256552525475\n",
      "0.620215216280281                                                                \n",
      "[LightGBM] [Warning] bagging_fraction is set=0.6830853381314663, subsample=0.87 will be ignored. Current value: bagging_fraction=0.6830853381314663\n",
      "0.6203169134937773                                                               \n",
      "[LightGBM] [Warning] bagging_fraction is set=0.7990255886459254, subsample=0.79 will be ignored. Current value: bagging_fraction=0.7990255886459254\n",
      "0.6203169134937773                                                               \n",
      "[LightGBM] [Warning] bagging_fraction is set=0.7175951898861074, subsample=0.76 will be ignored. Current value: bagging_fraction=0.7175951898861074\n",
      "0.6203282131841658                                                               \n",
      "[LightGBM] [Warning] bagging_fraction is set=0.8336003406139444, subsample=0.6 will be ignored. Current value: bagging_fraction=0.8336003406139444\n",
      "0.6203282131841658                                                               \n",
      "[LightGBM] [Warning] bagging_fraction is set=0.7881427489354283, subsample=0.81 will be ignored. Current value: bagging_fraction=0.7881427489354283\n",
      "0.6248593890299475                                                               \n"
     ]
    },
    {
     "name": "stdout",
     "output_type": "stream",
     "text": [
      "[LightGBM] [Warning] bagging_fraction is set=0.5174290922385166, subsample=0.31 will be ignored. Current value: bagging_fraction=0.5174290922385166\n",
      "0.6202513051142399                                                               \n",
      "[LightGBM] [Warning] bagging_fraction is set=0.7012126004319459, subsample=0.71 will be ignored. Current value: bagging_fraction=0.7012126004319459\n",
      "0.5420552578631415                                                               \n",
      "[LightGBM] [Warning] bagging_fraction is set=0.5463474591355283, subsample=0.36 will be ignored. Current value: bagging_fraction=0.5463474591355283\n",
      "0.6258628717117289                                                               \n",
      "[LightGBM] [Warning] bagging_fraction is set=0.5029403780175078, subsample=0.3 will be ignored. Current value: bagging_fraction=0.5029403780175078\n",
      "0.627146656890429                                                                \n",
      "[LightGBM] [Warning] bagging_fraction is set=0.8759396614877879, subsample=0.62 will be ignored. Current value: bagging_fraction=0.8759396614877879\n",
      "0.5                                                                                \n",
      "[LightGBM] [Warning] bagging_fraction is set=0.7653720266770366, subsample=0.66 will be ignored. Current value: bagging_fraction=0.7653720266770366\n",
      "0.599079109586161                                                                  \n",
      "[LightGBM] [Warning] bagging_fraction is set=0.7291506192942537, subsample=0.58 will be ignored. Current value: bagging_fraction=0.7291506192942537\n",
      "0.6224707748323905                                                                 \n",
      "[LightGBM] [Warning] bagging_fraction is set=0.5413147442675618, subsample=0.41000000000000003 will be ignored. Current value: bagging_fraction=0.5413147442675618\n",
      "0.5905874280816775                                                                 \n",
      "[LightGBM] [Warning] bagging_fraction is set=0.5608776988429703, subsample=0.33 will be ignored. Current value: bagging_fraction=0.5608776988429703\n",
      "0.6224707748323905                                                                 \n",
      "[LightGBM] [Warning] bagging_fraction is set=0.5044422023972271, subsample=0.39 will be ignored. Current value: bagging_fraction=0.5044422023972271\n",
      "0.6197519289743532                                                                 \n",
      "[LightGBM] [Warning] bagging_fraction is set=0.5662061069104306, subsample=0.3 will be ignored. Current value: bagging_fraction=0.5662061069104306\n",
      "0.6212186989620623                                                                 \n",
      "[LightGBM] [Warning] bagging_fraction is set=0.8434020536322483, subsample=0.85 will be ignored. Current value: bagging_fraction=0.8434020536322483\n",
      "0.5                                                                                \n",
      "[LightGBM] [Warning] bagging_fraction is set=0.8108280785935355, subsample=0.51 will be ignored. Current value: bagging_fraction=0.8108280785935355\n",
      "0.5                                                                                \n",
      "[LightGBM] [Warning] bagging_fraction is set=0.611308497161519, subsample=0.36 will be ignored. Current value: bagging_fraction=0.611308497161519\n",
      "0.5594709722674295                                                                 \n",
      "[LightGBM] [Warning] bagging_fraction is set=0.9011318045292613, subsample=0.7000000000000001 will be ignored. Current value: bagging_fraction=0.9011318045292613\n",
      "0.5                                                                                \n",
      "[LightGBM] [Warning] bagging_fraction is set=0.5171978185406994, subsample=0.34 will be ignored. Current value: bagging_fraction=0.5171978185406994\n",
      "0.6224142763804481                                                                 \n",
      "[LightGBM] [Warning] bagging_fraction is set=0.5808608874843375, subsample=0.44 will be ignored. Current value: bagging_fraction=0.5808608874843375\n",
      "0.5526339578295555                                                                 \n",
      "[LightGBM] [Warning] bagging_fraction is set=0.9211388583096523, subsample=0.54 will be ignored. Current value: bagging_fraction=0.9211388583096523\n",
      "0.6203282131841658                                                                 \n",
      "[LightGBM] [Warning] bagging_fraction is set=0.6065654863568736, subsample=0.32 will be ignored. Current value: bagging_fraction=0.6065654863568736\n",
      "0.5                                                                                \n",
      "[LightGBM] [Warning] bagging_fraction is set=0.5399844796524789, subsample=0.38 will be ignored. Current value: bagging_fraction=0.5399844796524789\n",
      "0.6191982441453174                                                                 \n",
      "[LightGBM] [Warning] bagging_fraction is set=0.5002192387339225, subsample=0.4 will be ignored. Current value: bagging_fraction=0.5002192387339225\n",
      "0.6224933742131675                                                                 \n",
      "[LightGBM] [Warning] bagging_fraction is set=0.6751675330827789, subsample=0.89 will be ignored. Current value: bagging_fraction=0.6751675330827789\n",
      "0.5                                                                                \n",
      "[LightGBM] [Warning] bagging_fraction is set=0.624879084111562, subsample=0.32 will be ignored. Current value: bagging_fraction=0.624879084111562\n",
      "0.5                                                                                \n",
      "[LightGBM] [Warning] bagging_fraction is set=0.5876330888701675, subsample=0.49 will be ignored. Current value: bagging_fraction=0.5876330888701675\n",
      "0.5563905363169606                                                                 \n",
      "[LightGBM] [Warning] bagging_fraction is set=0.6600489361951596, subsample=0.73 will be ignored. Current value: bagging_fraction=0.6600489361951596\n",
      "0.6213203961755587                                                                 \n",
      "[LightGBM] [Warning] bagging_fraction is set=0.7871480781681888, subsample=0.67 will be ignored. Current value: bagging_fraction=0.7871480781681888\n",
      "0.5                                                                                \n",
      "[LightGBM] [Warning] bagging_fraction is set=0.9704837479809034, subsample=0.75 will be ignored. Current value: bagging_fraction=0.9704837479809034\n",
      "0.5885279084110696                                                                 \n",
      "[LightGBM] [Warning] bagging_fraction is set=0.5106407205488688, subsample=0.42 will be ignored. Current value: bagging_fraction=0.5106407205488688\n",
      "0.6187936450541256                                                                 \n",
      "[LightGBM] [Warning] bagging_fraction is set=0.5262500298986114, subsample=0.35000000000000003 will be ignored. Current value: bagging_fraction=0.5262500298986114\n",
      "0.5837985039209925                                                                 \n",
      "100%|██████████| 100/100 [00:50<00:00,  1.99trial/s, best loss: 0.37285334310957097]\n"
     ]
    },
    {
     "data": {
      "text/plain": [
       "{'bagging_fraction': 0.5029403780175078,\n",
       " 'learning_rate': 0.32,\n",
       " 'max_depth': 9,\n",
       " 'min_child_weight': 20.63526027657666,\n",
       " 'n_estimators': 620,\n",
       " 'scale_pos_weight': 67,\n",
       " 'subsample': 0.3}"
      ]
     },
     "execution_count": 24,
     "metadata": {},
     "output_type": "execute_result"
    }
   ],
   "source": [
    "\n",
    "\n",
    "def score(params):\n",
    "\n",
    "    model = LGBMClassifier(**params)\n",
    "\n",
    "    model.fit(x_train, y_train, eval_set=[(x_train, y_train), (x_test, y_test)],\n",
    "\n",
    "              verbose=False, early_stopping_rounds=10,eval_metric='auc')\n",
    "\n",
    "    Y_pred = model.predict(x_test)\n",
    "\n",
    "    score = roc_auc_score(y_test, Y_pred)\n",
    "#     score=np.sqrt(-cross_val_score(model,train_X,train_y,cv=kfolds,scoring='neg_mean_squared_error'))\n",
    "\n",
    "    print(score)\n",
    "    \n",
    "    loss=1-score\n",
    "\n",
    "    return {'loss': loss, 'status': STATUS_OK}\n",
    "\n",
    "\n",
    "\n",
    "def optimize(trials, space):\n",
    "\n",
    "    best = fmin(score, space, algo=tpe.suggest, max_evals=100)\n",
    "\n",
    "    return best\n",
    "\n",
    "\n",
    "trials = Trials()\n",
    "\n",
    "best_params = optimize(trials, space)\n",
    "\n",
    "\n",
    "# Return the best parameters\n",
    "\n",
    "space_eval(space, best_params)"
   ]
  }
 ],
 "metadata": {
  "kernelspec": {
   "display_name": "Python 3",
   "language": "python",
   "name": "python3"
  },
  "language_info": {
   "codemirror_mode": {
    "name": "ipython",
    "version": 3
   },
   "file_extension": ".py",
   "mimetype": "text/x-python",
   "name": "python",
   "nbconvert_exporter": "python",
   "pygments_lexer": "ipython3",
   "version": "3.9.1"
  }
 },
 "nbformat": 4,
 "nbformat_minor": 4
}
